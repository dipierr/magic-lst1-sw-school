{
 "cells": [
  {
   "cell_type": "markdown",
   "id": "eb8526e8",
   "metadata": {},
   "source": [
    "# IRFs and DL3 scripts"
   ]
  },
  {
   "cell_type": "markdown",
   "id": "f52f6f1f",
   "metadata": {},
   "source": [
    "In this notebook, you can try running magic-cta-pipe scripts on a tiny data sample. Because of time constraints, you could not run the pipeline on all the files needed to produce plots (e.g. SED), so we will provide you a complete dataset to get to 'nice' plots and a few MCs and data *.h5* files to run the pipeline.\n",
    "You have to provide the MCP scripts path and paths (+filenames) where you want to save logging infos."
   ]
  },
  {
   "cell_type": "code",
   "execution_count": 1,
   "id": "e6187f24",
   "metadata": {},
   "outputs": [],
   "source": [
    "import glob\n",
    "import logging\n",
    "import os\n",
    "import subprocess\n",
    "import sys\n",
    "log = logging.getLogger()"
   ]
  },
  {
   "cell_type": "markdown",
   "id": "eb031bd0",
   "metadata": {},
   "source": [
    "# IRF"
   ]
  },
  {
   "cell_type": "markdown",
   "id": "59981c83",
   "metadata": {},
   "source": [
    "Here you will evaluate gammaness and theta cuts and create point-like IRFs (i.e. one angular bin every IRF (ring-wobble gammas); effective area and energy dispersion evaluation)\n",
    "\n",
    "Options:\n",
    "\n",
    "-g: input DL2 gamma file (test sample)\n",
    "\n",
    "-o: output directory (to save IRFs)\n",
    "\n",
    "-c: configuration file:\n",
    "\n",
    "1) quality_cuts: \"disp_diff_mean < 0.22\": standard quality cut on DISPs\n",
    "2) event_type: \"software\": hardware=hardware trigger between MAGIC and LST-1; software: any 2-telescopes combination except MAGIC-only; software_only_3tel: only MI + MII +LST-1 combo; magic_only: only MI + MII combo\n",
    "3) cut_type: \"dynamic\": global= cut not energy dependent, constant; dynamic: cut evaluated in every energy bin, according to the given efficiency\n",
    "\n"
   ]
  },
  {
   "cell_type": "code",
   "execution_count": 2,
   "id": "8e6378e2",
   "metadata": {},
   "outputs": [
    {
     "name": "stdout",
     "output_type": "stream",
     "text": [
      "create_irf:\n",
      "    quality_cuts: \"disp_diff_mean < 0.22\"\n",
      "    event_type: \"software\"  # select \"software\", \"software_only_3tel\", \"magic_only\" or \"hardware\"\n",
      "    weight_type_dl2: \"intensity\"  # select \"simple\", \"variance\" or \"intensity\"\n",
      "    obs_time_irf: \"50 h\"  # used when creating a background HDU\n",
      "\n",
      "    energy_bins:  # log space\n",
      "        start: \"0.01 TeV\"\n",
      "        stop: \"1000 TeV\"\n",
      "        n_edges: 26\n",
      "\n",
      "    migration_bins:  # log space\n",
      "        start: 0.2\n",
      "        stop: 5\n",
      "        n_edges: 31\n",
      "\n",
      "    fov_offset_bins:  # linear space, used for diffuse MCs\n",
      "        start: \"0 deg\"\n",
      "        stop: \"1 deg\"\n",
      "        n_edges: 2\n",
      "\n",
      "    source_offset_bins:  # linear space, used when creating PSF HDU\n",
      "        start: \"0 deg\"\n",
      "        stop: \"1 deg\"\n",
      "        n_edges: 101\n",
      "\n",
      "    bkg_fov_offset_bins:  # linear space, used when creating background HDU\n",
      "        start: \"0 deg\"\n",
      "        stop: \"10 deg\"\n",
      "        n_edges: 21\n",
      "\n",
      "    gammaness:\n",
      "        cut_type: \"dynamic\"  # select \"global\" or \"dynamic\"\n",
      "        global_cut_value: 0.8  # used for the global cut\n",
      "        efficiency: 0.9  # used for the dynamic cuts\n",
      "        min_cut: 0.05  # used for the dynamic cuts\n",
      "        max_cut: 0.85  # used for the dynamic cuts\n",
      "\n",
      "    theta:\n",
      "        cut_type: \"dynamic\"  # select \"global\" or \"dynamic\"\n",
      "        global_cut_value: \"0.2 deg\"  # used for the global cut\n",
      "        efficiency: 0.75  # used for the dynamic cuts\n",
      "        min_cut: \"0.1 deg\"  # used for the dynamic cuts\n",
      "        max_cut: \"0.3 deg\"  # used for the dynamic cuts\n",
      "\n"
     ]
    }
   ],
   "source": [
    "%%capture\n",
    "os.system(\"sed -n '210,254p' /fefs/aswg/workspace/elisa.visentin/sw_school/config_dyn.yaml\")"
   ]
  },
  {
   "cell_type": "markdown",
   "id": "08b7f98a",
   "metadata": {},
   "source": [
    "**Settings**"
   ]
  },
  {
   "cell_type": "code",
   "execution_count": 3,
   "id": "d456072e",
   "metadata": {},
   "outputs": [],
   "source": [
    "f=open('/fefs/aswg/workspace/elisa.visentin/sw_school/IRF.log','w')\n",
    "\n",
    "scripts=('/home/elisa.visentin/magic-cta-pipe/magicctapipe/scripts/lst1_magic/')\n",
    "input_gamma=('/fefs/aswg/workspace/elisa.visentin/sw_school/gamma_2/*.h5')\n",
    "output_dir_irf=('/fefs/aswg/workspace/elisa.visentin/sw_school/irf/')\n",
    "config='/fefs/aswg/workspace/elisa.visentin/sw_school/config_dyn.yaml'"
   ]
  },
  {
   "cell_type": "markdown",
   "id": "ea905734",
   "metadata": {},
   "source": [
    "cd to the scripts directory to launch them"
   ]
  },
  {
   "cell_type": "code",
   "execution_count": 4,
   "id": "fd0f6e89",
   "metadata": {},
   "outputs": [
    {
     "name": "stdout",
     "output_type": "stream",
     "text": [
      "/fefs/home/elisa.visentin/magic-cta-pipe/magicctapipe/scripts/lst1_magic\n"
     ]
    }
   ],
   "source": [
    "cd $scripts"
   ]
  },
  {
   "cell_type": "markdown",
   "id": "e3bbdfb6",
   "metadata": {},
   "source": [
    "Lines to get files from gamma/proton folders "
   ]
  },
  {
   "cell_type": "code",
   "execution_count": 5,
   "id": "5c7c14b7",
   "metadata": {},
   "outputs": [],
   "source": [
    "input_file_gamma = glob.glob(input_gamma)\n",
    "input_file_gamma.sort()"
   ]
  },
  {
   "cell_type": "markdown",
   "id": "d16fff78",
   "metadata": {},
   "source": [
    "Here we use python subprocess.run to run the script and get a log file"
   ]
  },
  {
   "cell_type": "code",
   "execution_count": 6,
   "id": "eb02f724",
   "metadata": {},
   "outputs": [],
   "source": [
    "for input_file in input_file_gamma: \n",
    "    x=subprocess.run(['python','lst1_magic_create_irf.py', f'-g{input_file}', f'-o{output_dir_irf}',\\\n",
    "        f'-c{config}'], stdout=f, stderr=f) "
   ]
  },
  {
   "cell_type": "markdown",
   "id": "613cb50d",
   "metadata": {},
   "source": [
    "Here you can check your log file"
   ]
  },
  {
   "cell_type": "code",
   "execution_count": 7,
   "id": "a559b610",
   "metadata": {},
   "outputs": [],
   "source": [
    "more /fefs/aswg/workspace/elisa.visentin/sw_school/IRF.log"
   ]
  },
  {
   "cell_type": "markdown",
   "id": "b0146a19",
   "metadata": {},
   "source": [
    "# DL2 to DL3 data"
   ]
  },
  {
   "cell_type": "markdown",
   "id": "49594c97",
   "metadata": {},
   "source": [
    "Here we run a script that interpolates IRFs (to get e.g. gammaness cuts or effective area values for every run average pointing coordinates), produces DL3 data (i.e. DL2 data + gammaness and theta cuts) and packs them toghether with IRFs (*.fits.gz* files). \n",
    "\n",
    "Then we run a script to create HDUs and observations index files (needed by Gammapy to process DL3 data and saved in the DL3 data directory)\n",
    "\n",
    "Options:\n",
    "\n",
    "-d: input file (DL2 real data)\n",
    "\n",
    "-i: directory where you saved the IRFs\n",
    "\n",
    "-o: directory to save DL3 data\n",
    "\n",
    "-c: configuration file: \n",
    "1) interpolation_method: \"linear\": nearest = use IRFs/cuts value evaluated in the nearest gamma test node; linear/cubic = interpolates IRFs/cuts values by using more than one gamma test node (see also scipy.interpolate)\n"
   ]
  },
  {
   "cell_type": "code",
   "execution_count": 8,
   "id": "a5137b3c",
   "metadata": {},
   "outputs": [
    {
     "name": "stdout",
     "output_type": "stream",
     "text": [
      "\n",
      "dl2_to_dl3:\n",
      "    interpolation_method: \"nearest\"  # select \"nearest\", \"linear\" or \"cubic\"\n",
      "    source_name: \"Crab\"\n",
      "    source_ra: null  #\"83.633083 deg\"  used when the source name cannot be resolved\n",
      "    source_dec: null  #\"22.0145 deg\" used when the source name cannot be resolved\n"
     ]
    }
   ],
   "source": [
    "%%capture\n",
    "os.system(\"sed -n '255,265p' /fefs/aswg/workspace/elisa.visentin/sw_school/config_dyn.yaml\")"
   ]
  },
  {
   "cell_type": "markdown",
   "id": "e5220f27",
   "metadata": {},
   "source": [
    "**Settings**"
   ]
  },
  {
   "cell_type": "code",
   "execution_count": 9,
   "id": "d9223a4d",
   "metadata": {},
   "outputs": [],
   "source": [
    "f=open('/fefs/aswg/workspace/elisa.visentin/sw_school/DL3.log','w')\n",
    "\n",
    "input_data=('/fefs/aswg/workspace/elisa.visentin/sw_school/real_2/*.h5')\n",
    "input_dir_irf=('/fefs/aswg/workspace/elisa.visentin/sw_school/irf/')\n",
    "output_dir_dl3=('/fefs/aswg/workspace/elisa.visentin/sw_school/dl3')\n",
    "config=('/fefs/aswg/workspace/elisa.visentin/sw_school/config_dyn.yaml')"
   ]
  },
  {
   "cell_type": "markdown",
   "id": "d4307681",
   "metadata": {},
   "source": [
    "cd to the scripts directory to launch them"
   ]
  },
  {
   "cell_type": "code",
   "execution_count": 10,
   "id": "a8bd1826",
   "metadata": {},
   "outputs": [
    {
     "name": "stdout",
     "output_type": "stream",
     "text": [
      "/fefs/home/elisa.visentin/magic-cta-pipe/magicctapipe/scripts/lst1_magic\n"
     ]
    }
   ],
   "source": [
    "cd $scripts"
   ]
  },
  {
   "cell_type": "markdown",
   "id": "3975f332",
   "metadata": {},
   "source": [
    "Lines to get files from gamma/proton folders "
   ]
  },
  {
   "cell_type": "code",
   "execution_count": 11,
   "id": "029a79d2",
   "metadata": {},
   "outputs": [],
   "source": [
    "input_file_data = glob.glob(input_data)\n",
    "input_file_data.sort()"
   ]
  },
  {
   "cell_type": "markdown",
   "id": "d3ba9faa",
   "metadata": {},
   "source": [
    "Here we use python subprocess.run to run the scripts and get a log file"
   ]
  },
  {
   "cell_type": "markdown",
   "id": "219f7c71",
   "metadata": {},
   "source": [
    "1) DL3 data "
   ]
  },
  {
   "cell_type": "code",
   "execution_count": 12,
   "id": "a4561159",
   "metadata": {
    "scrolled": false
   },
   "outputs": [],
   "source": [
    "for input_file in input_file_data:  \n",
    "    y=subprocess.run(['python','lst1_magic_dl2_to_dl3.py', f'-d{input_file}', f'-i{input_dir_irf},\\\n",
    "        'f'-o{output_dir_dl3}', f'-c{config}'], stdout=f, stderr=f)        "
   ]
  },
  {
   "cell_type": "markdown",
   "id": "bdd07e5c",
   "metadata": {},
   "source": [
    "2) Index files"
   ]
  },
  {
   "cell_type": "code",
   "execution_count": 13,
   "id": "2f17d3a1",
   "metadata": {
    "scrolled": true
   },
   "outputs": [],
   "source": [
    "z=subprocess.run(['python','lst1_magic_create_irf.py', f'-i{output_dir_dl3}'],stdout=f, stderr=f)        "
   ]
  },
  {
   "cell_type": "code",
   "execution_count": 14,
   "id": "eafa9362",
   "metadata": {},
   "outputs": [],
   "source": [
    "more /fefs/aswg/workspace/elisa.visentin/sw_school/DL3.log"
   ]
  }
 ],
 "metadata": {
  "kernelspec": {
   "display_name": "Python 3 (ipykernel)",
   "language": "python",
   "name": "python3"
  },
  "language_info": {
   "codemirror_mode": {
    "name": "ipython",
    "version": 3
   },
   "file_extension": ".py",
   "mimetype": "text/x-python",
   "name": "python",
   "nbconvert_exporter": "python",
   "pygments_lexer": "ipython3",
   "version": "3.8.13"
  }
 },
 "nbformat": 4,
 "nbformat_minor": 5
}
