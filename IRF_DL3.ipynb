{
 "cells": [
  {
   "cell_type": "code",
   "execution_count": null,
   "id": "e6187f24",
   "metadata": {},
   "outputs": [],
   "source": [
    "\n",
    "import matplotlib as mpl\n",
    "\n",
    " \n",
    "\n",
    "import numpy as np\n",
    "\n",
    "from matplotlib import gridspec\n",
    "from matplotlib import pyplot as plt\n",
    "\n",
    "\n",
    "\n",
    "\n",
    "import logging\n",
    "\n",
    "\n",
    "\n",
    "\n",
    "\n",
    "\n",
    "\n",
    "log = logging.getLogger(\"pyirf\")\n",
    "\n"
   ]
  },
  {
   "cell_type": "markdown",
   "id": "eb031bd0",
   "metadata": {},
   "source": [
    "# IRF"
   ]
  },
  {
   "cell_type": "markdown",
   "id": "08b7f98a",
   "metadata": {},
   "source": [
    "Set paths"
   ]
  },
  {
   "cell_type": "code",
   "execution_count": null,
   "id": "d456072e",
   "metadata": {},
   "outputs": [],
   "source": [
    "input_gamma=('')\n",
    "\n",
    "output_dir_irf=('')\n",
    "config=('')\n",
    "\n"
   ]
  },
  {
   "cell_type": "markdown",
   "id": "e3bbdfb6",
   "metadata": {},
   "source": [
    "Get files in gammas folder and create the IRFs"
   ]
  },
  {
   "cell_type": "code",
   "execution_count": null,
   "id": "5c7c14b7",
   "metadata": {},
   "outputs": [],
   "source": [
    "input_file_gamma = glob.glob(input_gamma)\n",
    "input_file_gamma.sort()"
   ]
  },
  {
   "cell_type": "code",
   "execution_count": null,
   "id": "a1c16b62",
   "metadata": {},
   "outputs": [],
   "source": [
    "for input_file in input_file_gamma:\n",
    "    \n",
    "    %run lst1_magic_train_rfs.py -g $input_file_gamma -o $output_dir_rf -c $config \n"
   ]
  },
  {
   "cell_type": "markdown",
   "id": "b0146a19",
   "metadata": {},
   "source": [
    "# DL2 to DL3 data"
   ]
  },
  {
   "cell_type": "markdown",
   "id": "e5220f27",
   "metadata": {},
   "source": [
    "Set paths"
   ]
  },
  {
   "cell_type": "code",
   "execution_count": null,
   "id": "d9223a4d",
   "metadata": {},
   "outputs": [],
   "source": [
    "input_data=('')\n",
    "input_dir_irf=('')\n",
    "output_dir_dl3=('')\n",
    "config=('')"
   ]
  },
  {
   "cell_type": "markdown",
   "id": "65c18d52",
   "metadata": {},
   "source": [
    "Get files from real data folder and update them to DL3"
   ]
  },
  {
   "cell_type": "code",
   "execution_count": null,
   "id": "029a79d2",
   "metadata": {},
   "outputs": [],
   "source": [
    "input_file_data = glob.glob(input_data)\n",
    "input_file_data.sort()\n"
   ]
  },
  {
   "cell_type": "code",
   "execution_count": null,
   "id": "a4561159",
   "metadata": {
    "scrolled": false
   },
   "outputs": [],
   "source": [
    "for input_file in input_file_data:\n",
    "    \n",
    "    %run lst1_magic_dl2_to_dl3.py -d $input_file -i $input_dir_irf -o $output_dir_dl3 -c $config\n",
    "\n"
   ]
  },
  {
   "cell_type": "markdown",
   "id": "bdd07e5c",
   "metadata": {},
   "source": [
    "Create HDU and observation index files"
   ]
  },
  {
   "cell_type": "code",
   "execution_count": null,
   "id": "2f17d3a1",
   "metadata": {},
   "outputs": [],
   "source": [
    "%run create_dl3_index_files.py -i $output_dir_dl3"
   ]
  },
  {
   "cell_type": "code",
   "execution_count": null,
   "id": "6c9ca923",
   "metadata": {},
   "outputs": [],
   "source": []
  },
  {
   "cell_type": "code",
   "execution_count": null,
   "id": "98417c32",
   "metadata": {},
   "outputs": [],
   "source": []
  },
  {
   "cell_type": "code",
   "execution_count": null,
   "id": "c02201a3",
   "metadata": {},
   "outputs": [],
   "source": []
  },
  {
   "cell_type": "code",
   "execution_count": null,
   "id": "4be06da8",
   "metadata": {},
   "outputs": [],
   "source": []
  },
  {
   "cell_type": "code",
   "execution_count": null,
   "id": "059b000d",
   "metadata": {},
   "outputs": [],
   "source": []
  },
  {
   "cell_type": "code",
   "execution_count": null,
   "id": "274ba14c",
   "metadata": {},
   "outputs": [],
   "source": []
  },
  {
   "cell_type": "code",
   "execution_count": null,
   "id": "7365caa6",
   "metadata": {},
   "outputs": [],
   "source": []
  },
  {
   "cell_type": "code",
   "execution_count": null,
   "id": "d701fbd4",
   "metadata": {},
   "outputs": [],
   "source": []
  }
 ],
 "metadata": {
  "kernelspec": {
   "display_name": "Python 3 (ipykernel)",
   "language": "python",
   "name": "python3"
  },
  "language_info": {
   "codemirror_mode": {
    "name": "ipython",
    "version": 3
   },
   "file_extension": ".py",
   "mimetype": "text/x-python",
   "name": "python",
   "nbconvert_exporter": "python",
   "pygments_lexer": "ipython3",
   "version": "3.8.15"
  }
 },
 "nbformat": 4,
 "nbformat_minor": 5
}
