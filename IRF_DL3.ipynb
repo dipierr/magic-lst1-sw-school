{
 "cells": [
  {
   "cell_type": "code",
   "execution_count": 1,
   "id": "e6187f24",
   "metadata": {},
   "outputs": [],
   "source": [
    "import glob\n",
    "import logging\n",
    "import subprocess\n",
    "import sys\n",
    "log = logging.getLogger()"
   ]
  },
  {
   "cell_type": "markdown",
   "id": "eb031bd0",
   "metadata": {},
   "source": [
    "# IRF"
   ]
  },
  {
   "cell_type": "markdown",
   "id": "08b7f98a",
   "metadata": {},
   "source": [
    "Set paths"
   ]
  },
  {
   "cell_type": "code",
   "execution_count": 2,
   "id": "d456072e",
   "metadata": {},
   "outputs": [],
   "source": [
    "f=open('/fefs/aswg/workspace/elisa.visentin/sw_school/IRF.log','w')\n",
    "\n",
    "scripts=('/home/elisa.visentin/magic-cta-pipe/magicctapipe/scripts/lst1_magic/')\n",
    "input_gamma=('/fefs/aswg/workspace/elisa.visentin/sw_school/gamma_2/*.h5')\n",
    "output_dir_irf=('/fefs/aswg/workspace/elisa.visentin/sw_school/irf/')\n",
    "config='/fefs/aswg/workspace/elisa.visentin/sw_school/config_dyn.yaml'"
   ]
  },
  {
   "cell_type": "code",
   "execution_count": 3,
   "id": "fd0f6e89",
   "metadata": {},
   "outputs": [
    {
     "name": "stdout",
     "output_type": "stream",
     "text": [
      "/fefs/home/elisa.visentin/magic-cta-pipe/magicctapipe/scripts/lst1_magic\n"
     ]
    }
   ],
   "source": [
    "cd $scripts"
   ]
  },
  {
   "cell_type": "markdown",
   "id": "e3bbdfb6",
   "metadata": {},
   "source": [
    "Get files in gammas folder and create the IRFs"
   ]
  },
  {
   "cell_type": "code",
   "execution_count": 4,
   "id": "5c7c14b7",
   "metadata": {},
   "outputs": [],
   "source": [
    "input_file_gamma = glob.glob(input_gamma)\n",
    "input_file_gamma.sort()"
   ]
  },
  {
   "cell_type": "code",
   "execution_count": 5,
   "id": "eb02f724",
   "metadata": {},
   "outputs": [],
   "source": [
    "for input_file in input_file_gamma: \n",
    "    x=subprocess.run(['python','lst1_magic_create_irf.py', f'-g{input_file}', f'-o{output_dir_irf}',\\\n",
    "        f'-c{config}'], stdout=f, stderr=f) "
   ]
  },
  {
   "cell_type": "code",
   "execution_count": 6,
   "id": "a559b610",
   "metadata": {},
   "outputs": [],
   "source": [
    "more /fefs/aswg/workspace/elisa.visentin/sw_school/IRF.log"
   ]
  },
  {
   "cell_type": "markdown",
   "id": "b0146a19",
   "metadata": {},
   "source": [
    "# DL2 to DL3 data"
   ]
  },
  {
   "cell_type": "markdown",
   "id": "e5220f27",
   "metadata": {},
   "source": [
    "Set paths"
   ]
  },
  {
   "cell_type": "code",
   "execution_count": 7,
   "id": "d9223a4d",
   "metadata": {},
   "outputs": [],
   "source": [
    "f=open('/fefs/aswg/workspace/elisa.visentin/sw_school/DL3.log','w')\n",
    "\n",
    "input_data=('/fefs/aswg/workspace/elisa.visentin/sw_school/real_2/*.h5')\n",
    "input_dir_irf=('/fefs/aswg/workspace/elisa.visentin/sw_school/irf/')\n",
    "output_dir_dl3=('/fefs/aswg/workspace/elisa.visentin/sw_school/dl3')\n",
    "config=('/fefs/aswg/workspace/elisa.visentin/sw_school/config_dyn.yaml')"
   ]
  },
  {
   "cell_type": "markdown",
   "id": "65c18d52",
   "metadata": {},
   "source": [
    "Get files from real data folder and update them to DL3"
   ]
  },
  {
   "cell_type": "code",
   "execution_count": 8,
   "id": "029a79d2",
   "metadata": {},
   "outputs": [],
   "source": [
    "input_file_data = glob.glob(input_data)\n",
    "input_file_data.sort()"
   ]
  },
  {
   "cell_type": "code",
   "execution_count": 9,
   "id": "a4561159",
   "metadata": {
    "scrolled": false
   },
   "outputs": [],
   "source": [
    "for input_file in input_file_data:  \n",
    "    y=subprocess.run(['python','lst1_magic_dl2_to_dl3.py', f'-d{input_file}', f'-i{input_dir_irf},\\\n",
    "        'f'-o{output_dir_dl3}', f'-c{config}'], stdout=f, stderr=f)        "
   ]
  },
  {
   "cell_type": "markdown",
   "id": "bdd07e5c",
   "metadata": {},
   "source": [
    "Create HDU and observation index files"
   ]
  },
  {
   "cell_type": "code",
   "execution_count": 10,
   "id": "2f17d3a1",
   "metadata": {
    "scrolled": true
   },
   "outputs": [],
   "source": [
    "z=subprocess.run(['python','lst1_magic_create_irf.py', f'-i{output_dir_dl3}'],stdout=f, stderr=f)        "
   ]
  },
  {
   "cell_type": "code",
   "execution_count": 11,
   "id": "eafa9362",
   "metadata": {},
   "outputs": [],
   "source": [
    "more /fefs/aswg/workspace/elisa.visentin/sw_school/DL3.log"
   ]
  }
 ],
 "metadata": {
  "kernelspec": {
   "display_name": "Python 3 (ipykernel)",
   "language": "python",
   "name": "python3"
  },
  "language_info": {
   "codemirror_mode": {
    "name": "ipython",
    "version": 3
   },
   "file_extension": ".py",
   "mimetype": "text/x-python",
   "name": "python",
   "nbconvert_exporter": "python",
   "pygments_lexer": "ipython3",
   "version": "3.8.13"
  }
 },
 "nbformat": 4,
 "nbformat_minor": 5
}
