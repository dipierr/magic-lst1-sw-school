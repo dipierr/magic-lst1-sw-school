{
 "cells": [
  {
   "cell_type": "code",
   "execution_count": null,
   "id": "e6187f24",
   "metadata": {},
   "outputs": [],
   "source": [
    "import glob\n",
    "import logging\n",
    "log = logging.getLogger(\"pyirf\")"
   ]
  },
  {
   "cell_type": "markdown",
   "id": "eb031bd0",
   "metadata": {},
   "source": [
    "# IRF"
   ]
  },
  {
   "cell_type": "markdown",
   "id": "08b7f98a",
   "metadata": {},
   "source": [
    "Set paths"
   ]
  },
  {
   "cell_type": "code",
   "execution_count": null,
   "id": "d456072e",
   "metadata": {},
   "outputs": [],
   "source": [
    "input_gamma=('')\n",
    "output_dir_irf=('')\n",
    "config=('')"
   ]
  },
  {
   "cell_type": "markdown",
   "id": "e3bbdfb6",
   "metadata": {},
   "source": [
    "Get files in gammas folder and create the IRFs"
   ]
  },
  {
   "cell_type": "code",
   "execution_count": null,
   "id": "5c7c14b7",
   "metadata": {},
   "outputs": [],
   "source": [
    "input_file_gamma = glob.glob(input_gamma)\n",
    "input_file_gamma.sort()"
   ]
  },
  {
   "cell_type": "code",
   "execution_count": null,
   "id": "a1c16b62",
   "metadata": {},
   "outputs": [],
   "source": [
    "for input_file in input_file_gamma:    \n",
    "    %run lst1_magic_train_rfs.py -g $input_file_gamma -o $output_dir_rf -c $config "
   ]
  },
  {
   "cell_type": "markdown",
   "id": "b0146a19",
   "metadata": {},
   "source": [
    "# DL2 to DL3 data"
   ]
  },
  {
   "cell_type": "markdown",
   "id": "e5220f27",
   "metadata": {},
   "source": [
    "Set paths"
   ]
  },
  {
   "cell_type": "code",
   "execution_count": null,
   "id": "d9223a4d",
   "metadata": {},
   "outputs": [],
   "source": [
    "input_data=('')\n",
    "input_dir_irf=('')\n",
    "output_dir_dl3=('')\n",
    "config=('')"
   ]
  },
  {
   "cell_type": "markdown",
   "id": "65c18d52",
   "metadata": {},
   "source": [
    "Get files from real data folder and update them to DL3"
   ]
  },
  {
   "cell_type": "code",
   "execution_count": null,
   "id": "029a79d2",
   "metadata": {},
   "outputs": [],
   "source": [
    "input_file_data = glob.glob(input_data)\n",
    "input_file_data.sort()"
   ]
  },
  {
   "cell_type": "code",
   "execution_count": null,
   "id": "a4561159",
   "metadata": {
    "scrolled": false
   },
   "outputs": [],
   "source": [
    "for input_file in input_file_data:    \n",
    "    %run lst1_magic_dl2_to_dl3.py -d $input_file -i $input_dir_irf -o $output_dir_dl3 -c $config"
   ]
  },
  {
   "cell_type": "markdown",
   "id": "bdd07e5c",
   "metadata": {},
   "source": [
    "Create HDU and observation index files"
   ]
  },
  {
   "cell_type": "code",
   "execution_count": null,
   "id": "2f17d3a1",
   "metadata": {},
   "outputs": [],
   "source": [
    "%run create_dl3_index_files.py -i $output_dir_dl3"
   ]
  }
 ],
 "metadata": {
  "kernelspec": {
   "display_name": "Python 3 (ipykernel)",
   "language": "python",
   "name": "python3"
  },
  "language_info": {
   "codemirror_mode": {
    "name": "ipython",
    "version": 3
   },
   "file_extension": ".py",
   "mimetype": "text/x-python",
   "name": "python",
   "nbconvert_exporter": "python",
   "pygments_lexer": "ipython3",
   "version": "3.8.13"
  }
 },
 "nbformat": 4,
 "nbformat_minor": 5
}
