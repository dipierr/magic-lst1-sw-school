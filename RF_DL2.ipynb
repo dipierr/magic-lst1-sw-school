{
 "cells": [
  {
   "cell_type": "markdown",
   "id": "017e7d6b",
   "metadata": {},
   "source": [
    "# RFs and DL2 (data and MCs) scripts"
   ]
  },
  {
   "cell_type": "markdown",
   "id": "59f4400b",
   "metadata": {},
   "source": [
    "In this notebook, you can try running magic-cta-pipe on a tiny data sample. Because of time constraints, you could not run the pipeline on all the files needed to produce plots (e.g. SED), so we will provide you a complete dataset to get to 'nice' plots and a few MCs and data *.h5* files to run the pipeline.\n",
    "You have to provide the MCP scripts "
   ]
  },
  {
   "cell_type": "code",
   "execution_count": 1,
   "id": "ba1c0aab",
   "metadata": {},
   "outputs": [],
   "source": [
    "import glob\n",
    "import logging\n",
    "import subprocess\n",
    "import sys\n",
    "log = logging.getLogger()"
   ]
  },
  {
   "cell_type": "markdown",
   "id": "e1d3c54e",
   "metadata": {},
   "source": [
    "# RFs training\n",
    "\n",
    "Here you will train RFs: two regressors (energy and direction reconstruction) and one classifier (gamma/hadron separation).\n",
    "\n",
    "Events are separated according to their combo-type (LST1+M1, LST1+M2, M1+M2, LST1+M1+M2) and these subsamples are used to train telescope-wise RFs. So you will get e.g. 4 classifier output files (4 combo-types) and in each file you will find one RF every telescope \n",
    "\n",
    "The script is based on python Scikit-learn.\n",
    "\n",
    "Options:\n",
    "\n",
    "-g: MC stereo dl1 gammas directory\n",
    "\n",
    "-p: MC stereo dl1 protons directory \n",
    "\n",
    "-o: directory to save the output\n",
    "\n",
    "-c: configuration file \n",
    "\n",
    "train-\\*: to train the energy regressor, the disp regressor or the classifier; you can train one, two or every RF when you launch the script, but you will need all the RFs (energy, disp, classifier) for the next step (Dl1 to Dl2)\n",
    "\n",
    "use-unsigned: use features absolute value to train RFs \n"
   ]
  },
  {
   "cell_type": "markdown",
   "id": "9a61ccaf",
   "metadata": {},
   "source": [
    "**Settings**"
   ]
  },
  {
   "cell_type": "code",
   "execution_count": 2,
   "id": "18a9a058",
   "metadata": {},
   "outputs": [],
   "source": [
    "f=open('/fefs/aswg/workspace/elisa.visentin/sw_school/RF.log','w')\n",
    "\n",
    "scripts=('/home/elisa.visentin/magic-cta-pipe/magicctapipe/scripts/lst1_magic/')\n",
    "input_dir_gamma=('/fefs/aswg/workspace/elisa.visentin/sw_school/DL1_stereo/gamma/train/')\n",
    "input_dir_proton=('/fefs/aswg/workspace/elisa.visentin/sw_school/DL1_stereo/proton/train/')\n",
    "output_dir_rf=('/fefs/aswg/workspace/elisa.visentin/sw_school')\n",
    "config=('/fefs/aswg/workspace/elisa.visentin/sw_school/config_dyn.yaml')"
   ]
  },
  {
   "cell_type": "markdown",
   "id": "2cbdca44",
   "metadata": {},
   "source": [
    "cd to the scripts directory to launch them"
   ]
  },
  {
   "cell_type": "code",
   "execution_count": 3,
   "id": "7ce9b776",
   "metadata": {},
   "outputs": [
    {
     "name": "stdout",
     "output_type": "stream",
     "text": [
      "/fefs/home/elisa.visentin/magic-cta-pipe/magicctapipe/scripts/lst1_magic\n"
     ]
    }
   ],
   "source": [
    "cd $scripts"
   ]
  },
  {
   "cell_type": "markdown",
   "id": "d87b7140",
   "metadata": {},
   "source": [
    "Here we use python subprocess.run to run the script and get a log file"
   ]
  },
  {
   "cell_type": "code",
   "execution_count": 4,
   "id": "6e04836c",
   "metadata": {},
   "outputs": [],
   "source": [
    "a=subprocess.run(['python','lst1_magic_train_rfs.py', f'-g{input_dir_gamma}', f'-p{input_dir_proton}',\\\n",
    "    f'-o{output_dir_rf}', f'-c{config}', '--train-energy', '--train-disp', '--train-classifier',\\\n",
    "        '--use-unsigned'], stdout=f, stderr=f) "
   ]
  },
  {
   "cell_type": "markdown",
   "id": "de1acf26",
   "metadata": {},
   "source": [
    "Here you can check your log file"
   ]
  },
  {
   "cell_type": "code",
   "execution_count": 5,
   "id": "3cea501d",
   "metadata": {},
   "outputs": [],
   "source": [
    "more /fefs/aswg/workspace/elisa.visentin/sw_school/RF.log"
   ]
  },
  {
   "cell_type": "markdown",
   "id": "9172ebf9",
   "metadata": {},
   "source": [
    "# DL1 to DL2 \n",
    "\n",
    "Here you will use your RFs to get to DL2 MCs and real data: DL2 data contain events whose energy, direction and gammaness are evaluated by RFs telescope-wise (so if three telescopes see the same event, this event will have three energy/direction/gammaness values (LSt1/M1/M2)).\n",
    "\n",
    "As for RFS, the events are separated in combo_types and the right combo RFs are applied.\n",
    "\n",
    "Options:\n",
    "\n",
    "-d: input file (dl1 stereo, MCs or real data)\n",
    "-r: directory where you stored your RFs\n",
    "-o: output directory, to store DL2 files\n",
    "\n"
   ]
  },
  {
   "cell_type": "markdown",
   "id": "ca93f2f3",
   "metadata": {},
   "source": [
    "### MCs"
   ]
  },
  {
   "cell_type": "markdown",
   "id": "ebe43b6a",
   "metadata": {},
   "source": [
    "**Settings**"
   ]
  },
  {
   "cell_type": "code",
   "execution_count": 6,
   "id": "2f26fbfb",
   "metadata": {},
   "outputs": [],
   "source": [
    "f=open('/fefs/aswg/workspace/elisa.visentin/sw_school/DL2_mc.log','w')\n",
    "\n",
    "scripts=('/home/elisa.visentin/magic-cta-pipe/magicctapipe/scripts/lst1_magic/')\n",
    "input_gamma=('/fefs/aswg/workspace/elisa.visentin/sw_school/DL1_stereo/gamma/test/*.h5')\n",
    "input_proton=('/fefs/aswg/workspace/elisa.visentin/sw_school/DL1_stereo/proton/test/*.h5')\n",
    "input_dir_rf=('/fefs/aswg/workspace/elisa.visentin/sw_school/')\n",
    "output_dir_dl2=('/fefs/aswg/workspace/elisa.visentin/sw_school/')"
   ]
  },
  {
   "cell_type": "markdown",
   "id": "b024759a",
   "metadata": {},
   "source": [
    "Lines to get files from gamma/proton folders "
   ]
  },
  {
   "cell_type": "code",
   "execution_count": 7,
   "id": "2f1c7bbb",
   "metadata": {},
   "outputs": [],
   "source": [
    "input_file_gamma = glob.glob(input_gamma)\n",
    "input_file_gamma.sort()\n",
    "input_file_proton = glob.glob(input_proton)\n",
    "input_file_proton.sort()"
   ]
  },
  {
   "cell_type": "markdown",
   "id": "5d02d6f0",
   "metadata": {},
   "source": [
    "Here we use python subprocess.run to run the script and get a log file"
   ]
  },
  {
   "cell_type": "code",
   "execution_count": 8,
   "id": "b044bc09",
   "metadata": {},
   "outputs": [],
   "source": [
    "for input_file in input_file_gamma: \n",
    "    b=subprocess.run(['python','lst1_magic_dl1_stereo_to_dl2.py', f'-d{input_file}', f'-r{input_dir_rf}',\\\n",
    "        f'-o{output_dir_dl2}'], stdout=f, stderr=f)     \n",
    "        \n",
    "for input_file in input_file_proton:\n",
    "    c=subprocess.run(['python','lst1_magic_dl1_stereo_to_dl2.py', f'-d{input_file}', f'-r{input_dir_rf}',\\\n",
    "        f'-o{output_dir_dl2}'], stdout=f, stderr=f)"
   ]
  },
  {
   "cell_type": "markdown",
   "id": "3021ed18",
   "metadata": {},
   "source": [
    "Here you can check your log file"
   ]
  },
  {
   "cell_type": "code",
   "execution_count": 9,
   "id": "d541eadb",
   "metadata": {},
   "outputs": [],
   "source": [
    "more /fefs/aswg/workspace/elisa.visentin/sw_school/DL2_mc.log"
   ]
  },
  {
   "cell_type": "markdown",
   "id": "3b25146b",
   "metadata": {},
   "source": [
    "### Real data"
   ]
  },
  {
   "cell_type": "markdown",
   "id": "5cd153fa",
   "metadata": {},
   "source": [
    "**Settings**"
   ]
  },
  {
   "cell_type": "code",
   "execution_count": 10,
   "id": "c20272a4",
   "metadata": {},
   "outputs": [],
   "source": [
    "f=open('/fefs/aswg/workspace/elisa.visentin/sw_school/DL2_data.log','w')\n",
    "\n",
    "input_data=('/fefs/aswg/workspace/elisa.visentin/sw_school/DL1_stereo/real/*.h5')\n",
    "input_dir_rf=('/fefs/aswg/workspace/elisa.visentin/sw_school/')\n",
    "output_dir_dl2=('/fefs/aswg/workspace/elisa.visentin/sw_school/')"
   ]
  },
  {
   "cell_type": "markdown",
   "id": "8d45fac1",
   "metadata": {},
   "source": [
    "Lines to get files from gamma/proton folders "
   ]
  },
  {
   "cell_type": "code",
   "execution_count": 11,
   "id": "69896208",
   "metadata": {},
   "outputs": [],
   "source": [
    "input_file_data = glob.glob(input_data)\n",
    "input_file_data.sort()"
   ]
  },
  {
   "cell_type": "markdown",
   "id": "f8d087ce",
   "metadata": {},
   "source": [
    "Here we use python subprocess.run to run the script and get a log file"
   ]
  },
  {
   "cell_type": "code",
   "execution_count": 12,
   "id": "acda4137",
   "metadata": {},
   "outputs": [],
   "source": [
    "for input_file in input_file_data: \n",
    "    d=subprocess.run(['python','lst1_magic_dl1_stereo_to_dl2.py', f'-d{input_file}', f'-r{input_dir_rf}',\\\n",
    "        f'-o{output_dir_dl2}'], stdout=f, stderr=f)     "
   ]
  },
  {
   "cell_type": "markdown",
   "id": "952811a0",
   "metadata": {},
   "source": [
    "Here you can check your log file"
   ]
  },
  {
   "cell_type": "code",
   "execution_count": 13,
   "id": "9cb9d635",
   "metadata": {},
   "outputs": [],
   "source": [
    "more /fefs/aswg/workspace/elisa.visentin/sw_school/DL2_data.log"
   ]
  },
  {
   "cell_type": "code",
   "execution_count": null,
   "id": "93f58263",
   "metadata": {},
   "outputs": [],
   "source": []
  }
 ],
 "metadata": {
  "kernelspec": {
   "display_name": "Python 3 (ipykernel)",
   "language": "python",
   "name": "python3"
  },
  "language_info": {
   "codemirror_mode": {
    "name": "ipython",
    "version": 3
   },
   "file_extension": ".py",
   "mimetype": "text/x-python",
   "name": "python",
   "nbconvert_exporter": "python",
   "pygments_lexer": "ipython3",
   "version": "3.8.13"
  }
 },
 "nbformat": 4,
 "nbformat_minor": 5
}
