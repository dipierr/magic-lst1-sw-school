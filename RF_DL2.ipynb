{
 "cells": [
  {
   "cell_type": "code",
   "execution_count": null,
   "id": "ba1c0aab",
   "metadata": {},
   "outputs": [],
   "source": [
    "\n",
    "import matplotlib as mpl\n",
    "\n",
    " \n",
    "\n",
    "import numpy as np\n",
    "\n",
    "from matplotlib import gridspec\n",
    "from matplotlib import pyplot as plt\n",
    "\n",
    "\n",
    "\n",
    "\n",
    "import logging\n",
    "\n",
    "\n",
    "\n",
    "\n",
    "\n",
    "\n",
    "\n",
    "log = logging.getLogger(\"pyirf\")\n",
    "\n"
   ]
  },
  {
   "cell_type": "markdown",
   "id": "e1d3c54e",
   "metadata": {},
   "source": [
    "# RF"
   ]
  },
  {
   "cell_type": "markdown",
   "id": "9a61ccaf",
   "metadata": {},
   "source": [
    "Set paths"
   ]
  },
  {
   "cell_type": "code",
   "execution_count": null,
   "id": "18a9a058",
   "metadata": {},
   "outputs": [],
   "source": [
    "input_dir_gamma=('')\n",
    "input_dir_proton=('')\n",
    "output_dir_rf=('')\n",
    "config=('')\n",
    "\n"
   ]
  },
  {
   "cell_type": "markdown",
   "id": "d87b7140",
   "metadata": {},
   "source": [
    "Create the RFs"
   ]
  },
  {
   "cell_type": "code",
   "execution_count": null,
   "id": "6e04836c",
   "metadata": {},
   "outputs": [],
   "source": [
    "%run /home/evisentin/magic-cta-pipe/magicctapipe/scripts/lst1_magic/lst1_magic_train_rfs.py -g $input_dir_gamma -p $input_dir_proton -o $output_dir_rf -c $config --train-energy --train-disp --train-classifier --use-unsigned\n"
   ]
  },
  {
   "cell_type": "markdown",
   "id": "9172ebf9",
   "metadata": {},
   "source": [
    "# DL1 to DL2 MCs"
   ]
  },
  {
   "cell_type": "markdown",
   "id": "ebe43b6a",
   "metadata": {},
   "source": [
    "Set paths"
   ]
  },
  {
   "cell_type": "code",
   "execution_count": null,
   "id": "2f26fbfb",
   "metadata": {},
   "outputs": [],
   "source": [
    "input_gamma=('')\n",
    "input_proton=('')\n",
    "input_dir_rf=('')\n",
    "output_dir_dl2=('')\n"
   ]
  },
  {
   "cell_type": "markdown",
   "id": "b024759a",
   "metadata": {},
   "source": [
    "Get files from gamma/proton folders and update them to DL2"
   ]
  },
  {
   "cell_type": "code",
   "execution_count": null,
   "id": "2f1c7bbb",
   "metadata": {},
   "outputs": [],
   "source": [
    "input_file_gamma = glob.glob(input_gamma)\n",
    "input_file_gamma.sort()\n",
    "input_file_proton = glob.glob(input_proton)\n",
    "input_file_proton.sort()"
   ]
  },
  {
   "cell_type": "code",
   "execution_count": null,
   "id": "b044bc09",
   "metadata": {},
   "outputs": [],
   "source": [
    "for input_file in input_file_gamma:\n",
    "    \n",
    "    %run lst1_magic_dl1_stereo_to_dl2.py -d $input_file -r $input_dir_rf -o $output_dir_dl2\n",
    "    \n",
    "for input_file in input_file_proton:\n",
    "    %run lst1_magic_dl1_stereo_to_dl2.py -d $input_file -r $input_dir_rf -o $output_dir_dl2"
   ]
  },
  {
   "cell_type": "markdown",
   "id": "3b25146b",
   "metadata": {},
   "source": [
    "# DL1 to DL2 data"
   ]
  },
  {
   "cell_type": "markdown",
   "id": "5cd153fa",
   "metadata": {},
   "source": [
    "Set paths"
   ]
  },
  {
   "cell_type": "code",
   "execution_count": null,
   "id": "c20272a4",
   "metadata": {},
   "outputs": [],
   "source": [
    "input_data=('')\n",
    "\n",
    "input_dir_rf=('')\n",
    "output_dir_dl2=('')\n"
   ]
  },
  {
   "cell_type": "markdown",
   "id": "ca64a940",
   "metadata": {},
   "source": [
    "Get files from real data folder and update them to DL2"
   ]
  },
  {
   "cell_type": "code",
   "execution_count": null,
   "id": "69896208",
   "metadata": {},
   "outputs": [],
   "source": [
    "input_file_data = glob.glob(input_data)\n",
    "input_file_data.sort()\n"
   ]
  },
  {
   "cell_type": "code",
   "execution_count": null,
   "id": "acda4137",
   "metadata": {},
   "outputs": [],
   "source": [
    "for input_file in input_file_data:\n",
    "    \n",
    "    %run lst1_magic_dl1_stereo_to_dl2.py -d $input_file -r $input_dir_rf -o $output_dir_dl2\n",
    "    \n"
   ]
  },
  {
   "cell_type": "code",
   "execution_count": null,
   "id": "e7bfab65",
   "metadata": {},
   "outputs": [],
   "source": []
  }
 ],
 "metadata": {
  "kernelspec": {
   "display_name": "Python 3 (ipykernel)",
   "language": "python",
   "name": "python3"
  },
  "language_info": {
   "codemirror_mode": {
    "name": "ipython",
    "version": 3
   },
   "file_extension": ".py",
   "mimetype": "text/x-python",
   "name": "python",
   "nbconvert_exporter": "python",
   "pygments_lexer": "ipython3",
   "version": "3.8.13"
  }
 },
 "nbformat": 4,
 "nbformat_minor": 5
}
