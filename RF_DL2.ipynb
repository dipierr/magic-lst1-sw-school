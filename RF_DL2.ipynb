{
 "cells": [
  {
   "cell_type": "markdown",
   "id": "59f4400b",
   "metadata": {},
   "source": [
    "# Step 0: RFs and DL2 (data and MCs) scripts\n",
    "\n",
    "In this notebook, we will run the magic-cta-pipe (MCP) scripts on a small DL1 data sample. Due to time constraints, it is unfeasible to run the pipeline on the full dataset needed to produce plots (e.g. SED), so we will provide you a complete dataset to get to 'nice' plots and a few MCs and *.h5* data files to run the pipeline.  \n",
    "You will have to provide the path to the MCP scripts and the paths (+ filenames) where you want to save the logging infos.\n",
    "\n",
    "### This time we will import only a few basic modules"
   ]
  },
  {
   "cell_type": "code",
   "execution_count": 29,
   "id": "ba1c0aab",
   "metadata": {},
   "outputs": [],
   "source": [
    "import glob\n",
    "import logging\n",
    "import os\n",
    "import subprocess\n",
    "import sys\n",
    "log = logging.getLogger()"
   ]
  },
  {
   "cell_type": "markdown",
   "id": "e1d3c54e",
   "metadata": {},
   "source": [
    "### Random Forest training\n",
    "\n",
    "Here we will train the Random Forest (RF) with two regressors, i.e. reconstructed energy and direction (disp), and one gamma/hadron classifier which will provide a value of gammaness for each event.\n",
    "\n",
    "Events are separated according to their `combo_type` (each event has only one combo type, i.e. MI+MII, LST1+MI, LST1+MII, LST1+MI+MII) and these subsamples are used to train telescope-wise RFs. So you will get 4 classifier output files (since you have 4 combinations) and in each file you will find one RF for every single telescope. \n",
    "\n",
    "Events used to train the RFs are extracted in a random way from the files listed in the input folders. Gammas are used to train all three types of RFs (i.e. energy, direction and gammaness), while protons are used only to train classifiers.\n",
    "\n",
    "We can run the script directly in the terminal with (or here in the jupyter, as we show later):\n",
    "\n",
    ">$ python lst1_magic_train_rfs.py -g Path1 -p Path2 -o Path3 -c configfile --train-energy --train-disp --train-classifier --use-unsigned\n",
    "\n",
    "with the followin options:  \n",
    "\n",
    "-g: MC stereo DL1 gammas directory (diffuse)\n",
    "\n",
    "-p: MC stereo DL1 protons directory (train sample)\n",
    "\n",
    "-o: directory to save the output\n",
    "\n",
    "-c: configuration file\n",
    "\n",
    "The inputs \"--train-X\" are used to train the energy regressor, the disp regressor and the classifier; you can train only one, two or all types of RF when you launch the script, however, you will need all them (energy, disp, classifier) for the next step, which is to convert DL1 to DL2.\n",
    "\n",
    "In the configuration file, the option \"gamma_offaxis\" is used for selecting only MC gammas lying in a predefined ring. Here we use a ring with minimum radius of 0.2$^{\\circ}$ and maximum of 0.5$^{\\circ}$, while the wobble of our target is 0.4$^{\\circ}$. If instead we set the minimum/maximum radius as \"null\", then we use all the gammas in the field.\n",
    "\n",
    "Warning: In case of real training, you will need a lot of proton and gammas runs for every pointing direction, so it would be better to merge the input runs to have only one *.h5* for every pointing.\n",
    "\n",
    "The input \"--use-unsigned\" serves to train the RFs with the features absolute values, which are \"intensity\", \"lenght\", etc as listed below. "
   ]
  },
  {
   "cell_type": "code",
   "execution_count": 30,
   "id": "d7b9a85e",
   "metadata": {
    "scrolled": true
   },
   "outputs": [
    {
     "name": "stdout",
     "output_type": "stream",
     "text": [
      "\n",
      "\n",
      "energy_regressor:\n",
      "    settings:\n",
      "        n_estimators: 150\n",
      "        criterion: \"squared_error\"\n",
      "        max_depth: 50\n",
      "        min_samples_split: 2\n",
      "        min_samples_leaf: 2\n",
      "        min_weight_fraction_leaf: 0.0\n",
      "        max_features: 1.0\n",
      "        max_leaf_nodes: null\n",
      "        min_impurity_decrease: 0.0\n",
      "        bootstrap: true\n",
      "        oob_score: false\n",
      "        n_jobs: 5\n",
      "        random_state: 42\n",
      "        verbose: 0\n",
      "        warm_start: false\n",
      "        ccp_alpha: 0.0\n",
      "        max_samples: null\n",
      "\n",
      "    features: [\n",
      "        \"intensity\",\n",
      "        \"length\",\n",
      "        \"width\",\n",
      "        \"skewness\",\n",
      "        \"kurtosis\",\n",
      "        \"slope\",\n",
      "        \"intensity_width_2\",\n",
      "        \"h_max\",\n",
      "        \"impact\",\n",
      "        \"pointing_alt\",\n",
      "        \"pointing_az\",\n",
      "    ]\n",
      "\n",
      "    gamma_offaxis:\n",
      "        min: 0.2 deg\n",
      "        max: 0.5 deg\n",
      "\n",
      "\n",
      "disp_regressor:\n",
      "    settings:\n",
      "        n_estimators: 150\n",
      "        criterion: \"squared_error\"\n",
      "        max_depth: 50\n",
      "        min_samples_split: 2\n",
      "        min_samples_leaf: 2\n",
      "        min_weight_fraction_leaf: 0.0\n",
      "        max_features: 1.0\n",
      "        max_leaf_nodes: null\n",
      "        min_impurity_decrease: 0.0\n",
      "        bootstrap: true\n",
      "        oob_score: false\n",
      "        n_jobs: 5\n",
      "        random_state: 42\n",
      "        verbose: 0\n",
      "        warm_start: false\n",
      "        ccp_alpha: 0.0\n",
      "        max_samples: null\n",
      "\n",
      "    features: [\n",
      "        \"intensity\",\n",
      "        \"length\",\n",
      "        \"width\",\n",
      "        \"skewness\",\n",
      "        \"kurtosis\",\n",
      "        \"slope\",\n",
      "        \"intensity_width_2\",\n",
      "        \"h_max\",\n",
      "        \"impact\",\n",
      "        \"pointing_alt\",\n",
      "        \"pointing_az\",\n",
      "    ]\n",
      "\n",
      "    gamma_offaxis:\n",
      "        min: 0.2 deg\n",
      "        max: 0.5 deg\n",
      "\n",
      "\n",
      "event_classifier:\n",
      "    settings:\n",
      "        n_estimators: 100\n",
      "        criterion: \"gini\"\n",
      "        max_depth: 100\n",
      "        min_samples_split: 2\n",
      "        min_samples_leaf: 2\n",
      "        min_weight_fraction_leaf: 0.0\n",
      "        max_features: \"sqrt\"\n",
      "        max_leaf_nodes: null\n",
      "        min_impurity_decrease: 0.0\n",
      "        bootstrap: true\n",
      "        oob_score: false\n",
      "        n_jobs: 5\n",
      "        random_state: 42\n",
      "        verbose: 0\n",
      "        warm_start: false\n",
      "        class_weight: null\n",
      "        ccp_alpha: 0.0\n",
      "        max_samples: null\n",
      "\n",
      "    features: [\n",
      "        \"intensity\",\n",
      "        \"length\",\n",
      "        \"width\",\n",
      "        \"skewness\",\n",
      "        \"kurtosis\",\n",
      "        \"slope\",\n",
      "        \"intensity_width_2\",\n",
      "        \"h_max\",\n",
      "        \"impact\",\n",
      "        \"pointing_alt\",\n",
      "        \"pointing_az\",\n",
      "    ]\n",
      "\n",
      "    gamma_offaxis:\n",
      "        min: 0.2 deg\n",
      "        max: 0.5 deg\n",
      "\n",
      "create_irf:\n",
      "    quality_cuts: \"disp_diff_mean < 0.22\"\n"
     ]
    }
   ],
   "source": [
    "%%capture\n",
    "os.system(\"sed -n '80,200p' /home/raniere/Documentos/MAGIC/School_notebooks/config_dyn.yaml\")"
   ]
  },
  {
   "cell_type": "markdown",
   "id": "9a61ccaf",
   "metadata": {},
   "source": [
    "Let's start by setting up the data paths:"
   ]
  },
  {
   "cell_type": "code",
   "execution_count": 31,
   "id": "18a9a058",
   "metadata": {},
   "outputs": [],
   "source": [
    "f=open('/home/raniere/Documentos/MAGIC/School_notebooks/RF.log','w')\n",
    "\n",
    "scripts=('/home/raniere/Documentos/magic-cta-pipe/magicctapipe/scripts/lst1_magic/')\n",
    "input_dir_gamma=('/home/raniere/Documentos/MAGIC/School_notebooks/data/MC/gammadiffuse/')\n",
    "input_dir_proton=('/home/raniere/Documentos/MAGIC/School_notebooks/data/MC/protons/train/')\n",
    "output_dir_rf=('/home/raniere/Documentos/MAGIC/School_notebooks/Results_RF/')\n",
    "config=('/home/raniere/Documentos/MAGIC/School_notebooks/config_dyn.yaml')"
   ]
  },
  {
   "cell_type": "markdown",
   "id": "2cbdca44",
   "metadata": {},
   "source": [
    "Now we go to the scripts directory to launch them:"
   ]
  },
  {
   "cell_type": "code",
   "execution_count": 32,
   "id": "7ce9b776",
   "metadata": {},
   "outputs": [
    {
     "name": "stdout",
     "output_type": "stream",
     "text": [
      "/home/raniere/Documentos/magic-cta-pipe/magicctapipe/scripts/lst1_magic\n"
     ]
    }
   ],
   "source": [
    "cd $scripts"
   ]
  },
  {
   "cell_type": "markdown",
   "id": "d87b7140",
   "metadata": {},
   "source": [
    "Now we use python `subprocess.run()` to run the RF script and also get a log file:"
   ]
  },
  {
   "cell_type": "code",
   "execution_count": 33,
   "id": "6e04836c",
   "metadata": {},
   "outputs": [],
   "source": [
    "a=subprocess.run(['python','lst1_magic_train_rfs.py', f'-g{input_dir_gamma}', f'-p{input_dir_proton}',\\\n",
    "    f'-o{output_dir_rf}', f'-c{config}', '--train-energy', '--train-disp', '--train-classifier',\\\n",
    "        '--use-unsigned'], stdout=f, stderr=f) "
   ]
  },
  {
   "cell_type": "markdown",
   "id": "de1acf26",
   "metadata": {},
   "source": [
    "We can check the log file here on Jupyter by doing:"
   ]
  },
  {
   "cell_type": "code",
   "execution_count": 34,
   "id": "3cea501d",
   "metadata": {},
   "outputs": [],
   "source": [
    "more /home/raniere/Documentos/MAGIC/School_notebooks/RF.log"
   ]
  },
  {
   "cell_type": "markdown",
   "id": "97ae74a3",
   "metadata": {},
   "source": [
    "It must look like: \n",
    "\n",
    "```\n",
    "Gamma off-axis angles allowed:\n",
    "    min: 0.2 deg\n",
    "    max: 0.5 deg \n",
    "    [...]\n",
    "```    "
   ]
  },
  {
   "cell_type": "markdown",
   "id": "9172ebf9",
   "metadata": {},
   "source": [
    "### Converting DL1 to DL2 \n",
    "\n",
    "Here we will use the RFs to convert DL1 into DL2 (for MCs and also real data). DL2 data contain events whose energy, direction and gammaness are evaluated by the RFs telescope-wise, such that, if the three telescopes see the same event, this event will have three energy/direction/gammaness values, one for each telescope.  \n",
    "\n",
    "Since the events are separated into `combo_types`, we have to choose the right combo of RFs.\n",
    "\n",
    "To reconstruct the arrival directions, MCP script uses the MARS-like DISP method, which looks for the minimum angular distance between all the head and tail candidates, as shown in the figure below:\n",
    "\n",
    "![head](./figures/head_tail.png)\n",
    "\n",
    "\n",
    "We can run the script directly in the terminal with (or here in the jupyter, as we show below):\n",
    "\n",
    ">$ python lst1_magic_dl1_stereo_to_dl2.py -d Path1 -r Path2 -o Path3\n",
    "\n",
    "with the followin options:  \n",
    "\n",
    "-d: input file (DL1 stereo, MCs or real data; test sample gammas are ring-wobble ($0.4^{\\circ}$), test sample protons are diffuse)\n",
    "\n",
    "-r: directory where you stored your RFs\n",
    "\n",
    "-o: output directory, to store DL2 files"
   ]
  },
  {
   "cell_type": "markdown",
   "id": "ebe43b6a",
   "metadata": {},
   "source": [
    "#### Let's start with the MC"
   ]
  },
  {
   "cell_type": "code",
   "execution_count": 35,
   "id": "2f26fbfb",
   "metadata": {},
   "outputs": [],
   "source": [
    "f=open('/home/raniere/Documentos/MAGIC/School_notebooks/DL2_mc.log','w')\n",
    "\n",
    "scripts=('/home/raniere/Documentos/magic-cta-pipe/magicctapipe/scripts/lst1_magic/')\n",
    "input_gamma=('/home/raniere/Documentos/MAGIC/School_notebooks/data/MC/gammas/test/*.h5')   #test gammas\n",
    "input_proton=('/home/raniere/Documentos/MAGIC/School_notebooks/data/MC/protons/test/*.h5') #test protons\n",
    "input_dir_rf=('/home/raniere/Documentos/MAGIC/School_notebooks/Results_RF/')\n",
    "output_dir_dl2=('/home/raniere/Documentos/MAGIC/School_notebooks/DL2/')"
   ]
  },
  {
   "cell_type": "markdown",
   "id": "03de1e9e",
   "metadata": {},
   "source": [
    "cd to the scripts directory to launch them"
   ]
  },
  {
   "cell_type": "code",
   "execution_count": 36,
   "id": "f8385d9a",
   "metadata": {},
   "outputs": [
    {
     "name": "stdout",
     "output_type": "stream",
     "text": [
      "/home/raniere/Documentos/magic-cta-pipe/magicctapipe/scripts/lst1_magic\n"
     ]
    }
   ],
   "source": [
    "cd $scripts"
   ]
  },
  {
   "cell_type": "markdown",
   "id": "b024759a",
   "metadata": {},
   "source": [
    "Lines to get files from gamma/proton folders "
   ]
  },
  {
   "cell_type": "code",
   "execution_count": 37,
   "id": "2f1c7bbb",
   "metadata": {},
   "outputs": [],
   "source": [
    "input_file_gamma = glob.glob(input_gamma)\n",
    "input_file_gamma.sort()\n",
    "input_file_proton = glob.glob(input_proton)\n",
    "input_file_proton.sort()"
   ]
  },
  {
   "cell_type": "markdown",
   "id": "5d02d6f0",
   "metadata": {},
   "source": [
    "Here we use python `subprocess.run()` to run the script and get a log file"
   ]
  },
  {
   "cell_type": "code",
   "execution_count": 38,
   "id": "b044bc09",
   "metadata": {},
   "outputs": [],
   "source": [
    "for input_file in input_file_gamma: \n",
    "    b=subprocess.run(['python','lst1_magic_dl1_stereo_to_dl2.py', f'-d{input_file}', f'-r{input_dir_rf}',\\\n",
    "        f'-o{output_dir_dl2}'], stdout=f, stderr=f)     \n",
    "        \n",
    "for input_file in input_file_proton:\n",
    "    c=subprocess.run(['python','lst1_magic_dl1_stereo_to_dl2.py', f'-d{input_file}', f'-r{input_dir_rf}',\\\n",
    "        f'-o{output_dir_dl2}'], stdout=f, stderr=f)"
   ]
  },
  {
   "cell_type": "markdown",
   "id": "3021ed18",
   "metadata": {},
   "source": [
    "To check the log file we do:"
   ]
  },
  {
   "cell_type": "code",
   "execution_count": 39,
   "id": "d541eadb",
   "metadata": {},
   "outputs": [],
   "source": [
    "more /home/raniere/Documentos/MAGIC/School_notebooks/DL2_mc.log"
   ]
  },
  {
   "cell_type": "markdown",
   "id": "070cbc8f",
   "metadata": {},
   "source": [
    "This process just created DL2 files for the MC gammas and protons and put them in the DL2 directory."
   ]
  },
  {
   "cell_type": "markdown",
   "id": "3b25146b",
   "metadata": {},
   "source": [
    "### Real data\n",
    "\n",
    "Let's repeat the process for the real data:"
   ]
  },
  {
   "cell_type": "code",
   "execution_count": 40,
   "id": "c20272a4",
   "metadata": {},
   "outputs": [],
   "source": [
    "f=open('/home/raniere/Documentos/MAGIC/School_notebooks/DL2_data.log','w')\n",
    "\n",
    "input_data=('/home/raniere/Documentos/MAGIC/School_notebooks/data/*.h5')\n",
    "input_dir_rf=('/home/raniere/Documentos/MAGIC/School_notebooks/Results_RF/')\n",
    "output_dir_dl2=('/home/raniere/Documentos/MAGIC/School_notebooks/DL2/')"
   ]
  },
  {
   "cell_type": "markdown",
   "id": "3e549f5f",
   "metadata": {},
   "source": [
    "cd to the scripts directory to launch them"
   ]
  },
  {
   "cell_type": "code",
   "execution_count": 41,
   "id": "dfc21701",
   "metadata": {},
   "outputs": [
    {
     "name": "stdout",
     "output_type": "stream",
     "text": [
      "/home/raniere/Documentos/magic-cta-pipe/magicctapipe/scripts/lst1_magic\n"
     ]
    }
   ],
   "source": [
    "cd $scripts"
   ]
  },
  {
   "cell_type": "markdown",
   "id": "8d45fac1",
   "metadata": {},
   "source": [
    "Lines to get files from data folder:"
   ]
  },
  {
   "cell_type": "code",
   "execution_count": 42,
   "id": "69896208",
   "metadata": {},
   "outputs": [],
   "source": [
    "input_file_data = glob.glob(input_data)\n",
    "input_file_data.sort()"
   ]
  },
  {
   "cell_type": "markdown",
   "id": "f8d087ce",
   "metadata": {},
   "source": [
    "Here we use python `subprocess.run()` to run the script and also get a log file"
   ]
  },
  {
   "cell_type": "code",
   "execution_count": 43,
   "id": "acda4137",
   "metadata": {},
   "outputs": [],
   "source": [
    "for input_file in input_file_data: \n",
    "    d=subprocess.run(['python','lst1_magic_dl1_stereo_to_dl2.py', f'-d{input_file}', f'-r{input_dir_rf}',\\\n",
    "        f'-o{output_dir_dl2}'], stdout=f, stderr=f)     "
   ]
  },
  {
   "cell_type": "markdown",
   "id": "952811a0",
   "metadata": {},
   "source": [
    "To check the log file:"
   ]
  },
  {
   "cell_type": "code",
   "execution_count": 45,
   "id": "9cb9d635",
   "metadata": {},
   "outputs": [],
   "source": [
    "more /home/raniere/Documentos/MAGIC/School_notebooks/DL2_data.log"
   ]
  },
  {
   "cell_type": "markdown",
   "id": "48de1b18",
   "metadata": {},
   "source": [
    "This process just created DL2 files for the real data and put them in the DL2 directory."
   ]
  },
  {
   "cell_type": "code",
   "execution_count": null,
   "id": "d9e0938f",
   "metadata": {},
   "outputs": [],
   "source": []
  }
 ],
 "metadata": {
  "kernelspec": {
   "display_name": "Python 3 (ipykernel)",
   "language": "python",
   "name": "python3"
  },
  "language_info": {
   "codemirror_mode": {
    "name": "ipython",
    "version": 3
   },
   "file_extension": ".py",
   "mimetype": "text/x-python",
   "name": "python",
   "nbconvert_exporter": "python",
   "pygments_lexer": "ipython3",
   "version": "3.8.16"
  }
 },
 "nbformat": 4,
 "nbformat_minor": 5
}
