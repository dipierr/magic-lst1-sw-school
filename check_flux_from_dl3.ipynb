{
 "cells": [
  {
   "cell_type": "code",
   "execution_count": 91,
   "metadata": {},
   "outputs": [],
   "source": [
    "import itertools\n",
    "\n",
    "import numpy as np\n",
    "from astropy import units as u\n",
    "from astropy.coordinates import SkyCoord\n",
    "from astropy.time import Time\n",
    "from matplotlib import pyplot as plt"
   ]
  },
  {
   "cell_type": "code",
   "execution_count": 92,
   "metadata": {},
   "outputs": [
    {
     "name": "stdout",
     "output_type": "stream",
     "text": [
      "gammapy: v0.20.1\n"
     ]
    }
   ],
   "source": [
    "# Due to the dependencies on other packages, gammapy v0.19 is installed\n",
    "# in the current magic-cta-pipe environment, but it is already outdated.\n",
    "# In order to use the latest features, such as dynamic theta cuts and\n",
    "# the wobble region finder, please run this notebook with a different\n",
    "# environment where the newer versions of gammapy (v0.20.*) is installed.\n",
    "\n",
    "import gammapy\n",
    "\n",
    "print(f\"gammapy: v{gammapy.__version__}\")\n",
    "\n",
    "from gammapy.data import DataStore\n",
    "from gammapy.datasets import Datasets, SpectrumDataset\n",
    "from gammapy.estimators import FluxPointsEstimator, LightCurveEstimator\n",
    "from gammapy.makers import (\n",
    "    ReflectedRegionsBackgroundMaker,\n",
    "    SafeMaskMaker,\n",
    "    SpectrumDatasetMaker,\n",
    "    WobbleRegionsFinder,\n",
    ")\n",
    "from gammapy.maps import Map, MapAxis, RegionGeom\n",
    "from gammapy.modeling import Fit\n",
    "from gammapy.modeling.models import (\n",
    "    ExpCutoffPowerLawSpectralModel,\n",
    "    LogParabolaSpectralModel,\n",
    "    PowerLawSpectralModel,\n",
    "    SkyModel,\n",
    "    create_crab_spectral_model,\n",
    ")\n",
    "from gammapy.visualization import plot_spectrum_datasets_off_regions\n",
    "from regions import CircleSkyRegion, PointSkyRegion"
   ]
  },
  {
   "cell_type": "code",
   "execution_count": 93,
   "metadata": {},
   "outputs": [],
   "source": [
    "# Customize the pyplot figure\n",
    "plt.rcParams.update(\n",
    "    {\"figure.figsize\": (12, 9), \"font.size\": 15, \"grid.linestyle\": \"--\"}\n",
    ")\n",
    "\n",
    "# Get the default color cycle\n",
    "colors = plt.rcParams[\"axes.prop_cycle\"].by_key()[\"color\"]"
   ]
  },
  {
   "cell_type": "markdown",
   "metadata": {},
   "source": [
    "# Load DL3 data"
   ]
  },
  {
   "cell_type": "code",
   "execution_count": 94,
   "metadata": {
    "scrolled": false
   },
   "outputs": [
    {
     "name": "stdout",
     "output_type": "stream",
     "text": [
      "Input directory: /fefs/aswg/workspace/elisa.visentin/MAGIC_LST_analysis/Crab_2/DL3_dyn_int/\n",
      "Input directory: /fefs/aswg/workspace/elisa.visentin/MAGIC_LST_analysis/Crab_2/DL3_dyn_wgt_int/\n"
     ]
    },
    {
     "data": {
      "text/html": [
       "<div><i>ObservationTable length=16</i>\n",
       "<table id=\"table140095062251648\" class=\"table-striped table-bordered table-condensed\">\n",
       "<thead><tr><th>OBS_ID</th><th>DATE-OBS</th><th>TIME-OBS</th><th>DATE-END</th><th>TIME-END</th><th>RA_PNT</th><th>DEC_PNT</th><th>ZEN_PNT</th><th>ALT_PNT</th><th>AZ_PNT</th><th>RA_OBJ</th><th>DEC_OBJ</th><th>TSTART</th><th>TSTOP</th><th>ONTIME</th><th>TELAPSE</th><th>LIVETIME</th><th>DEADC</th><th>OBJECT</th><th>OBS_MODE</th><th>N_TELS</th><th>TELLIST</th><th>INSTRUME</th></tr></thead>\n",
       "<thead><tr><th></th><th></th><th></th><th></th><th></th><th>deg</th><th>deg</th><th>deg</th><th>deg</th><th>deg</th><th>deg</th><th>deg</th><th>s</th><th>s</th><th>s</th><th>s</th><th>s</th><th></th><th></th><th></th><th></th><th></th><th></th></tr></thead>\n",
       "<thead><tr><th>int64</th><th>bytes10</th><th>bytes12</th><th>bytes10</th><th>bytes12</th><th>float64</th><th>float64</th><th>float64</th><th>float64</th><th>float64</th><th>float64</th><th>float64</th><th>float64</th><th>float64</th><th>float64</th><th>float64</th><th>float64</th><th>float64</th><th>bytes4</th><th>bytes6</th><th>int64</th><th>bytes10</th><th>bytes10</th></tr></thead>\n",
       "<tr><td>2923</td><td>2020-11-18</td><td>23:35:47.415</td><td>2020-11-18</td><td>23:52:39.650</td><td>83.96696805679441</td><td>22.24638287152439</td><td>45.06171120796383</td><td>44.93828879203617</td><td>86.40431692412777</td><td>83.63333333</td><td>22.01333333</td><td>1605742547.414514</td><td>1605743559.649549</td><td>451.3736107349396</td><td>1012.235034465789</td><td>409.0913326624333</td><td>0.906325321049095</td><td>Crab</td><td>WOBBLE</td><td>3</td><td>LST1_M1_M2</td><td>LST1_M1_M2</td></tr>\n",
       "<tr><td>2924</td><td>2020-11-18</td><td>23:56:14.698</td><td>2020-11-19</td><td>00:15:55.933</td><td>83.26503262048294</td><td>21.7876915585711</td><td>40.10371827458638</td><td>49.89628172541362</td><td>89.6596903830588</td><td>83.63333333</td><td>22.01333333</td><td>1605743774.698224</td><td>1605744955.932863</td><td>536.2971684932709</td><td>1181.234639644619</td><td>487.0149766340357</td><td>0.9081065596566663</td><td>Crab</td><td>WOBBLE</td><td>3</td><td>LST1_M1_M2</td><td>LST1_M1_M2</td></tr>\n",
       "<tr><td>3093</td><td>2020-12-07</td><td>23:34:47.190</td><td>2020-12-07</td><td>23:36:13.672</td><td>83.97885081403817</td><td>22.24526920857109</td><td>28.896547521311618</td><td>61.10345247868838</td><td>95.75666061818394</td><td>83.63333333</td><td>22.01333333</td><td>1607384087.190233</td><td>1607384173.672199</td><td>39.02381253242493</td><td>86.48196649551103</td><td>36.69248074225411</td><td>0.9402587384758034</td><td>Crab</td><td>WOBBLE</td><td>3</td><td>LST1_M1_M2</td><td>LST1_M1_M2</td></tr>\n",
       "<tr><td>3265</td><td>2020-12-15</td><td>21:27:18.415</td><td>2020-12-15</td><td>21:41:43.146</td><td>83.96475780330954</td><td>22.247863563275</td><td>49.9494782005039</td><td>40.0505217994961</td><td>84.08107653962642</td><td>83.63333333</td><td>22.01333333</td><td>1608067638.414856</td><td>1608068503.145767</td><td>472.7662608623505</td><td>864.7309117317188</td><td>449.7320408635144</td><td>0.9512777837470456</td><td>Crab</td><td>WOBBLE</td><td>3</td><td>LST1_M1_M2</td><td>LST1_M1_M2</td></tr>\n",
       "<tr><td>3266</td><td>2020-12-15</td><td>21:43:24.497</td><td>2020-12-15</td><td>21:57:30.340</td><td>83.26300698928598</td><td>21.7877022954978</td><td>45.96227389775927</td><td>44.03772610224073</td><td>86.64186055227022</td><td>83.63333333</td><td>22.01333333</td><td>1608068604.496795</td><td>1608069450.340243</td><td>462.2223224639893</td><td>845.8434472083973</td><td>440.4028394825901</td><td>0.9527943980180684</td><td>Crab</td><td>WOBBLE</td><td>3</td><td>LST1_M1_M2</td><td>LST1_M1_M2</td></tr>\n",
       "<tr><td>3267</td><td>2020-12-15</td><td>21:59:19.731</td><td>2020-12-15</td><td>22:12:55.664</td><td>83.96675054673734</td><td>22.24606302455202</td><td>42.93517607753816</td><td>47.06482392246184</td><td>87.45572611833191</td><td>83.63333333</td><td>22.01333333</td><td>1608069559.731362</td><td>1608070375.663918</td><td>439.3872592449188</td><td>815.932556152341</td><td>418.9587482320345</td><td>0.9535068198199681</td><td>Crab</td><td>WOBBLE</td><td>3</td><td>LST1_M1_M2</td><td>LST1_M1_M2</td></tr>\n",
       "<tr><td>...</td><td>...</td><td>...</td><td>...</td><td>...</td><td>...</td><td>...</td><td>...</td><td>...</td><td>...</td><td>...</td><td>...</td><td>...</td><td>...</td><td>...</td><td>...</td><td>...</td><td>...</td><td>...</td><td>...</td><td>...</td><td>...</td><td>...</td></tr>\n",
       "<tr><td>3635</td><td>2021-02-13</td><td>23:09:15.761</td><td>2021-02-13</td><td>23:26:01.783</td><td>83.28785259632826</td><td>21.78673659083378</td><td>27.93920269216776</td><td>62.06079730783224</td><td>262.4862245311674</td><td>83.63333333</td><td>22.01333333</td><td>1613257755.761256</td><td>1613258761.783382</td><td>407.7805027961731</td><td>1006.022126674656</td><td>392.9189927423401</td><td>0.9635551235237417</td><td>Crab</td><td>WOBBLE</td><td>3</td><td>LST1_M1_M2</td><td>LST1_M1_M2</td></tr>\n",
       "<tr><td>3636</td><td>2021-02-13</td><td>23:28:33.708</td><td>2021-02-13</td><td>23:48:15.498</td><td>83.99707651258834</td><td>22.24723176237374</td><td>31.3834277849097</td><td>58.6165722150903</td><td>265.9843179181366</td><td>83.63333333</td><td>22.01333333</td><td>1613258913.70842</td><td>1613260095.498076</td><td>498.2511916160583</td><td>1181.78965640068</td><td>480.5515009897273</td><td>0.9644763707058627</td><td>Crab</td><td>WOBBLE</td><td>3</td><td>LST1_M1_M2</td><td>LST1_M1_M2</td></tr>\n",
       "<tr><td>4069</td><td>2021-03-15</td><td>21:48:21.186</td><td>2021-03-15</td><td>22:01:23.867</td><td>83.99074624715463</td><td>22.2469312817745</td><td>35.28566748884207</td><td>54.71433251115793</td><td>268.4193459274702</td><td>83.63333333</td><td>22.01333333</td><td>1615844901.185961</td><td>1615845683.866888</td><td>390.484316110611</td><td>782.6809272766095</td><td>373.3074597529778</td><td>0.9560114051987492</td><td>Crab</td><td>WOBBLE</td><td>3</td><td>LST1_M1_M2</td><td>LST1_M1_M2</td></tr>\n",
       "<tr><td>4070</td><td>2021-03-15</td><td>22:03:46.914</td><td>2021-03-15</td><td>22:18:29.142</td><td>83.28829767818313</td><td>21.78779441212851</td><td>39.44157010036336</td><td>50.55842989963664</td><td>269.9795752580683</td><td>83.63333333</td><td>22.01333333</td><td>1615845826.914014</td><td>1615846709.142035</td><td>448.7389826774597</td><td>882.228020906448</td><td>431.4658751183312</td><td>0.9615074503755696</td><td>Crab</td><td>WOBBLE</td><td>3</td><td>LST1_M1_M2</td><td>LST1_M1_M2</td></tr>\n",
       "<tr><td>4071</td><td>2021-03-15</td><td>22:20:06.233</td><td>2021-03-15</td><td>22:33:51.792</td><td>83.99222688644896</td><td>22.25025603406967</td><td>42.25935053539298</td><td>47.74064946460702</td><td>272.2104427268937</td><td>83.63333333</td><td>22.01333333</td><td>1615846806.233426</td><td>1615847631.791612</td><td>412.6295664310455</td><td>825.5581858158099</td><td>398.6902593758757</td><td>0.9662183513029978</td><td>Crab</td><td>WOBBLE</td><td>3</td><td>LST1_M1_M2</td><td>LST1_M1_M2</td></tr>\n",
       "<tr><td>4125</td><td>2021-03-17</td><td>22:40:16.224</td><td>2021-03-17</td><td>22:59:10.295</td><td>83.29047868056195</td><td>21.79155650040567</td><td>49.17288582588206</td><td>40.82711417411794</td><td>274.9188876256304</td><td>83.63333333</td><td>22.01333333</td><td>1616020816.224253</td><td>1616021950.29526</td><td>549.9685978889465</td><td>1134.071007251741</td><td>526.5106219583231</td><td>0.9573466993921711</td><td>Crab</td><td>WOBBLE</td><td>3</td><td>LST1_M1_M2</td><td>LST1_M1_M2</td></tr>\n",
       "</table></div>"
      ],
      "text/plain": [
       "<ObservationTable length=16>\n",
       "OBS_ID  DATE-OBS    TIME-OBS    DATE-END  ... N_TELS  TELLIST    INSTRUME \n",
       "                                          ...                             \n",
       "int64   bytes10     bytes12     bytes10   ... int64   bytes10    bytes10  \n",
       "------ ---------- ------------ ---------- ... ------ ---------- ----------\n",
       "  2923 2020-11-18 23:35:47.415 2020-11-18 ...      3 LST1_M1_M2 LST1_M1_M2\n",
       "  2924 2020-11-18 23:56:14.698 2020-11-19 ...      3 LST1_M1_M2 LST1_M1_M2\n",
       "  3093 2020-12-07 23:34:47.190 2020-12-07 ...      3 LST1_M1_M2 LST1_M1_M2\n",
       "  3265 2020-12-15 21:27:18.415 2020-12-15 ...      3 LST1_M1_M2 LST1_M1_M2\n",
       "  3266 2020-12-15 21:43:24.497 2020-12-15 ...      3 LST1_M1_M2 LST1_M1_M2\n",
       "  3267 2020-12-15 21:59:19.731 2020-12-15 ...      3 LST1_M1_M2 LST1_M1_M2\n",
       "   ...        ...          ...        ... ...    ...        ...        ...\n",
       "  3635 2021-02-13 23:09:15.761 2021-02-13 ...      3 LST1_M1_M2 LST1_M1_M2\n",
       "  3636 2021-02-13 23:28:33.708 2021-02-13 ...      3 LST1_M1_M2 LST1_M1_M2\n",
       "  4069 2021-03-15 21:48:21.186 2021-03-15 ...      3 LST1_M1_M2 LST1_M1_M2\n",
       "  4070 2021-03-15 22:03:46.914 2021-03-15 ...      3 LST1_M1_M2 LST1_M1_M2\n",
       "  4071 2021-03-15 22:20:06.233 2021-03-15 ...      3 LST1_M1_M2 LST1_M1_M2\n",
       "  4125 2021-03-17 22:40:16.224 2021-03-17 ...      3 LST1_M1_M2 LST1_M1_M2"
      ]
     },
     "execution_count": 94,
     "metadata": {},
     "output_type": "execute_result"
    }
   ],
   "source": [
    "# ================\n",
    "# === Settings ===\n",
    "# ================\n",
    "\n",
    "input_dir = '/fefs/aswg/workspace/elisa.visentin/MAGIC_LST_analysis/Crab_2/DL3_int/'\n",
    "    \n",
    "input_dir_1 = '/fefs/aswg/workspace/elisa.visentin/MAGIC_LST_analysis/Crab_2/DL3_wgt/'\n",
    "\n",
    "# === Main ===\n",
    "# ============\n",
    "\n",
    "print(f\"Input directory: {input_dir}\")\n",
    "print(f\"Input directory: {input_dir_1}\")\n",
    "\n",
    "double = True\n",
    "if input_dir_1=='':\n",
    "    double = False\n",
    "\n",
    "data_store = DataStore.from_dir(input_dir)\n",
    "if double:\n",
    "    data_store_1 = DataStore.from_dir(input_dir_1)\n",
    "# Show the observation table\n",
    "data_store.obs_table\n"
   ]
  },
  {
   "cell_type": "code",
   "execution_count": 95,
   "metadata": {
    "scrolled": false
   },
   "outputs": [
    {
     "name": "stdout",
     "output_type": "stream",
     "text": [
      "Observations\n",
      "Number of observations: 16\n",
      "Observation\n",
      "\n",
      "\tobs id            : 2923 \n",
      " \ttstart            : 59171.98\n",
      "\ttstop             : 59171.99\n",
      "\tduration          : 1012.24 s\n",
      "\tpointing (icrs)   : 84.0 deg, 22.2 deg\n",
      "\n",
      "\tdeadtime fraction : 9.4%\n",
      "Observation\n",
      "\n",
      "\tobs id            : 2924 \n",
      " \ttstart            : 59172.00\n",
      "\ttstop             : 59172.01\n",
      "\tduration          : 1181.23 s\n",
      "\tpointing (icrs)   : 83.3 deg, 21.8 deg\n",
      "\n",
      "\tdeadtime fraction : 9.2%\n",
      "Observation\n",
      "\n",
      "\tobs id            : 3093 \n",
      " \ttstart            : 59190.98\n",
      "\ttstop             : 59190.98\n",
      "\tduration          : 86.48 s\n",
      "\tpointing (icrs)   : 84.0 deg, 22.2 deg\n",
      "\n",
      "\tdeadtime fraction : 6.0%\n",
      "Observation\n",
      "\n",
      "\tobs id            : 3265 \n",
      " \ttstart            : 59198.89\n",
      "\ttstop             : 59198.90\n",
      "\tduration          : 864.73 s\n",
      "\tpointing (icrs)   : 84.0 deg, 22.2 deg\n",
      "\n",
      "\tdeadtime fraction : 4.9%\n",
      "Observation\n",
      "\n",
      "\tobs id            : 3266 \n",
      " \ttstart            : 59198.90\n",
      "\ttstop             : 59198.91\n",
      "\tduration          : 845.84 s\n",
      "\tpointing (icrs)   : 83.3 deg, 21.8 deg\n",
      "\n",
      "\tdeadtime fraction : 4.7%\n",
      "Observation\n",
      "\n",
      "\tobs id            : 3267 \n",
      " \ttstart            : 59198.92\n",
      "\ttstop             : 59198.93\n",
      "\tduration          : 815.93 s\n",
      "\tpointing (icrs)   : 84.0 deg, 22.2 deg\n",
      "\n",
      "\tdeadtime fraction : 4.6%\n",
      "Observation\n",
      "\n",
      "\tobs id            : 3268 \n",
      " \ttstart            : 59198.93\n",
      "\ttstop             : 59198.94\n",
      "\tduration          : 776.25 s\n",
      "\tpointing (icrs)   : 83.3 deg, 21.8 deg\n",
      "\n",
      "\tdeadtime fraction : 4.6%\n",
      "Observation\n",
      "\n",
      "\tobs id            : 3631 \n",
      " \ttstart            : 59258.91\n",
      "\ttstop             : 59258.92\n",
      "\tduration          : 686.09 s\n",
      "\tpointing (icrs)   : 83.3 deg, 21.8 deg\n",
      "\n",
      "\tdeadtime fraction : 5.4%\n",
      "Observation\n",
      "\n",
      "\tobs id            : 3633 \n",
      " \ttstart            : 59258.94\n",
      "\ttstop             : 59258.95\n",
      "\tduration          : 610.36 s\n",
      "\tpointing (icrs)   : 83.3 deg, 21.8 deg\n",
      "\n",
      "\tdeadtime fraction : 3.7%\n",
      "Observation\n",
      "\n",
      "\tobs id            : 3634 \n",
      " \ttstart            : 59258.95\n",
      "\ttstop             : 59258.96\n",
      "\tduration          : 1086.19 s\n",
      "\tpointing (icrs)   : 84.0 deg, 22.2 deg\n",
      "\n",
      "\tdeadtime fraction : 3.7%\n",
      "Observation\n",
      "\n",
      "\tobs id            : 3635 \n",
      " \ttstart            : 59258.96\n",
      "\ttstop             : 59258.98\n",
      "\tduration          : 1006.02 s\n",
      "\tpointing (icrs)   : 83.3 deg, 21.8 deg\n",
      "\n",
      "\tdeadtime fraction : 3.6%\n",
      "Observation\n",
      "\n",
      "\tobs id            : 3636 \n",
      " \ttstart            : 59258.98\n",
      "\ttstop             : 59258.99\n",
      "\tduration          : 1181.79 s\n",
      "\tpointing (icrs)   : 84.0 deg, 22.2 deg\n",
      "\n",
      "\tdeadtime fraction : 3.6%\n",
      "Observation\n",
      "\n",
      "\tobs id            : 4069 \n",
      " \ttstart            : 59288.91\n",
      "\ttstop             : 59288.92\n",
      "\tduration          : 782.68 s\n",
      "\tpointing (icrs)   : 84.0 deg, 22.2 deg\n",
      "\n",
      "\tdeadtime fraction : 4.4%\n",
      "Observation\n",
      "\n",
      "\tobs id            : 4070 \n",
      " \ttstart            : 59288.92\n",
      "\ttstop             : 59288.93\n",
      "\tduration          : 882.23 s\n",
      "\tpointing (icrs)   : 83.3 deg, 21.8 deg\n",
      "\n",
      "\tdeadtime fraction : 3.8%\n",
      "Observation\n",
      "\n",
      "\tobs id            : 4071 \n",
      " \ttstart            : 59288.93\n",
      "\ttstop             : 59288.94\n",
      "\tduration          : 825.56 s\n",
      "\tpointing (icrs)   : 84.0 deg, 22.3 deg\n",
      "\n",
      "\tdeadtime fraction : 3.4%\n",
      "Observation\n",
      "\n",
      "\tobs id            : 4125 \n",
      " \ttstart            : 59290.94\n",
      "\ttstop             : 59290.96\n",
      "\tduration          : 1134.07 s\n",
      "\tpointing (icrs)   : 83.3 deg, 21.8 deg\n",
      "\n",
      "\tdeadtime fraction : 4.3%\n",
      "\n"
     ]
    }
   ],
   "source": [
    "# ================\n",
    "# === Settings ===\n",
    "# ================\n",
    "\n",
    "\n",
    "\n",
    "obs_ids = None   # `None` means \"all\" observations\n",
    "\n",
    "# ============\n",
    "# === Main ===\n",
    "# ============\n",
    "\n",
    "observations = data_store.get_observations(obs_ids, required_irf=\"point-like\")\n",
    "if double:\n",
    "    observations_1 = data_store_1.get_observations(obs_ids, required_irf=\"point-like\")\n",
    "print(observations)\n",
    "\n",
    "\n"
   ]
  },
  {
   "cell_type": "markdown",
   "metadata": {},
   "source": [
    "# Define a target region"
   ]
  },
  {
   "cell_type": "code",
   "execution_count": 96,
   "metadata": {},
   "outputs": [
    {
     "name": "stdout",
     "output_type": "stream",
     "text": [
      "Region: PointSkyRegion\n",
      "center: <SkyCoord (ICRS): (ra, dec) in deg\n",
      "    (83.63333333, 22.01333333)>\n"
     ]
    }
   ],
   "source": [
    "# Get metadata from the first observation\n",
    "observation = observations[0]\n",
    "\n",
    "event_meta = observation.events.table.meta\n",
    "aeff_meta = observation.aeff.meta\n",
    "\n",
    "# Define a target position\n",
    "target_position = SkyCoord(\n",
    "    u.Quantity(event_meta[\"RA_OBJ\"], u.deg),\n",
    "    u.Quantity(event_meta[\"DEC_OBJ\"], u.deg),\n",
    "    frame=\"icrs\",\n",
    ")\n",
    "\n",
    "if \"RAD_MAX\" in aeff_meta:\n",
    "    # Get the global theta cut used for creating the IRFs\n",
    "    on_region_radius = aeff_meta[\"RAD_MAX\"] * u.deg\n",
    "    \n",
    "    # Use the circle sky region to apply the global theta cut\n",
    "    on_region = CircleSkyRegion(center=target_position, radius=on_region_radius)\n",
    "    \n",
    "else:\n",
    "    # Use the point sky region to apply dynamic theta cuts\n",
    "    on_region = PointSkyRegion(target_position)\n",
    "    \n",
    "print(on_region)"
   ]
  },
  {
   "cell_type": "code",
   "execution_count": 97,
   "metadata": {},
   "outputs": [
    {
     "name": "stdout",
     "output_type": "stream",
     "text": [
      "Region: PointSkyRegion\n",
      "center: <SkyCoord (ICRS): (ra, dec) in deg\n",
      "    (83.63333333, 22.01333333)>\n"
     ]
    }
   ],
   "source": [
    "if double:\n",
    "    # Get metadata from the first observation\n",
    "    observation_1 = observations_1[0]\n",
    "\n",
    "    event_meta_1 = observation_1.events.table.meta\n",
    "    aeff_meta_1 = observation_1.aeff.meta\n",
    "\n",
    "    # Define a target position\n",
    "    target_position_1 = SkyCoord(\n",
    "        u.Quantity(event_meta[\"RA_OBJ\"], u.deg),\n",
    "        u.Quantity(event_meta[\"DEC_OBJ\"], u.deg),\n",
    "        frame=\"icrs\",\n",
    "    )\n",
    "\n",
    "    if \"RAD_MAX\" in aeff_meta:\n",
    "        # Get the global theta cut used for creating the IRFs\n",
    "        on_region_radius = aeff_meta[\"RAD_MAX\"] * u.deg\n",
    "\n",
    "        # Use the circle sky region to apply the global theta cut\n",
    "        on_region_1 = CircleSkyRegion(center=target_position, radius=on_region_radius)\n",
    "\n",
    "    else:\n",
    "        # Use the point sky region to apply dynamic theta cuts\n",
    "        on_region_1 = PointSkyRegion(target_position_1)\n",
    "\n",
    "    print(on_region_1)"
   ]
  },
  {
   "cell_type": "markdown",
   "metadata": {},
   "source": [
    "# Run the data reduction chain"
   ]
  },
  {
   "cell_type": "code",
   "execution_count": 98,
   "metadata": {
    "scrolled": true
   },
   "outputs": [
    {
     "name": "stdout",
     "output_type": "stream",
     "text": [
      "Energy axis:\n",
      "[3.00000000e-02 4.75467958e-02 7.53565929e-02 1.19432151e-01\n",
      " 1.89287203e-01 3.00000000e-01 4.75467958e-01 7.53565929e-01\n",
      " 1.19432151e+00 1.89287203e+00 3.00000000e+00 4.75467958e+00\n",
      " 7.53565929e+00 1.19432151e+01 1.89287203e+01 3.00000000e+01] TeV\n",
      "\n",
      "Number of OFF regions: 3\n"
     ]
    }
   ],
   "source": [
    "# ================\n",
    "# === Settings ===\n",
    "# ================\n",
    "\n",
    "energy_min = \"0.030 TeV\"\n",
    "energy_max = \"30. TeV\"\n",
    "n_bins_pdec = 5\n",
    "\n",
    "true_energy_min = \"0.01 TeV\"\n",
    "true_energy_max = \"100 TeV\"\n",
    "n_bins_pdec_true = 10\n",
    "\n",
    "n_off_regions = 3\n",
    "\n",
    "# ============\n",
    "# === Main ===\n",
    "# ============\n",
    "\n",
    "energy_axis = MapAxis.from_energy_bounds(\n",
    "    energy_min,\n",
    "    energy_max,\n",
    "    nbin=n_bins_pdec,\n",
    "    per_decade=True,\n",
    "    name=\"energy\",\n",
    ")\n",
    "\n",
    "energy_axis_true = MapAxis.from_energy_bounds(\n",
    "    true_energy_min,\n",
    "    true_energy_max,\n",
    "    nbin=n_bins_pdec_true,\n",
    "    per_decade=True,\n",
    "    name=\"energy_true\",\n",
    ")\n",
    "\n",
    "print(\"Energy axis:\")\n",
    "print(energy_axis.edges)\n",
    "\n",
    "on_geom = RegionGeom.create(region=on_region, axes=[energy_axis])\n",
    "\n",
    "dataset_empty = SpectrumDataset.create(geom=on_geom, energy_axis_true=energy_axis_true)\n",
    "\n",
    "# Create a spectrum dataset maker\n",
    "dataset_maker = SpectrumDatasetMaker(\n",
    "    containment_correction=False,\n",
    "    selection=[\"counts\", \"exposure\", \"edisp\"],\n",
    "    use_region_center=True,\n",
    ")\n",
    "\n",
    "# Create a background maker\n",
    "print(f\"\\nNumber of OFF regions: {n_off_regions}\")\n",
    "\n",
    "region_finder = WobbleRegionsFinder(n_off_regions=n_off_regions)\n",
    "bkg_maker = ReflectedRegionsBackgroundMaker(region_finder=region_finder)\n",
    "\n",
    "# Create a safe mask maker\n",
    "safe_mask_maker = SafeMaskMaker(methods=[\"aeff-max\"], aeff_percent=3)"
   ]
  },
  {
   "cell_type": "code",
   "execution_count": 99,
   "metadata": {},
   "outputs": [
    {
     "name": "stdout",
     "output_type": "stream",
     "text": [
      "\n",
      "Number of OFF regions: 3\n"
     ]
    }
   ],
   "source": [
    "if double:\n",
    "    on_geom_1 = RegionGeom.create(region=on_region_1, axes=[energy_axis])\n",
    "    dataset_empty_1 = SpectrumDataset.create(geom=on_geom_1, energy_axis_true=energy_axis_true)\n",
    "    # Create a spectrum dataset maker\n",
    "    dataset_maker_1 = SpectrumDatasetMaker(\n",
    "        containment_correction=False,\n",
    "        selection=[\"counts\", \"exposure\", \"edisp\"],\n",
    "        use_region_center=True,\n",
    "    )\n",
    "\n",
    "    # Create a background maker\n",
    "    print(f\"\\nNumber of OFF regions: {n_off_regions}\")\n",
    "\n",
    "    region_finder_1 = WobbleRegionsFinder(n_off_regions=n_off_regions)\n",
    "    bkg_maker_1 = ReflectedRegionsBackgroundMaker(region_finder=region_finder_1)\n",
    "\n",
    "    # Create a safe mask maker\n",
    "    safe_mask_maker_1 = SafeMaskMaker(methods=[\"aeff-max\"], aeff_percent=3)"
   ]
  },
  {
   "cell_type": "markdown",
   "metadata": {},
   "source": [
    "First sample"
   ]
  },
  {
   "cell_type": "code",
   "execution_count": 100,
   "metadata": {},
   "outputs": [
    {
     "name": "stdout",
     "output_type": "stream",
     "text": [
      "Running the makers...\n",
      "0/16\n"
     ]
    },
    {
     "name": "stderr",
     "output_type": "stream",
     "text": [
      "Found overlapping on/off regions, choose less off regions\n",
      "ReflectedRegionsBackgroundMaker failed. No OFF region found outside exclusion mask for dataset '2923'.\n",
      "ReflectedRegionsBackgroundMaker failed. Setting 2923 mask to False.\n",
      "Found overlapping on/off regions, choose less off regions\n",
      "ReflectedRegionsBackgroundMaker failed. No OFF region found outside exclusion mask for dataset '2924'.\n",
      "ReflectedRegionsBackgroundMaker failed. Setting 2924 mask to False.\n",
      "Found overlapping on/off regions, choose less off regions\n",
      "ReflectedRegionsBackgroundMaker failed. No OFF region found outside exclusion mask for dataset '3093'.\n",
      "ReflectedRegionsBackgroundMaker failed. Setting 3093 mask to False.\n",
      "Found overlapping on/off regions, choose less off regions\n",
      "ReflectedRegionsBackgroundMaker failed. No OFF region found outside exclusion mask for dataset '3265'.\n",
      "ReflectedRegionsBackgroundMaker failed. Setting 3265 mask to False.\n",
      "Found overlapping on/off regions, choose less off regions\n",
      "ReflectedRegionsBackgroundMaker failed. No OFF region found outside exclusion mask for dataset '3266'.\n",
      "ReflectedRegionsBackgroundMaker failed. Setting 3266 mask to False.\n",
      "Found overlapping on/off regions, choose less off regions\n",
      "ReflectedRegionsBackgroundMaker failed. No OFF region found outside exclusion mask for dataset '3267'.\n",
      "ReflectedRegionsBackgroundMaker failed. Setting 3267 mask to False.\n",
      "Found overlapping on/off regions, choose less off regions\n",
      "ReflectedRegionsBackgroundMaker failed. No OFF region found outside exclusion mask for dataset '3268'.\n",
      "ReflectedRegionsBackgroundMaker failed. Setting 3268 mask to False.\n",
      "Found overlapping on/off regions, choose less off regions\n",
      "ReflectedRegionsBackgroundMaker failed. No OFF region found outside exclusion mask for dataset '3633'.\n",
      "ReflectedRegionsBackgroundMaker failed. Setting 3633 mask to False.\n",
      "Found overlapping on/off regions, choose less off regions\n",
      "ReflectedRegionsBackgroundMaker failed. No OFF region found outside exclusion mask for dataset '3634'.\n",
      "ReflectedRegionsBackgroundMaker failed. Setting 3634 mask to False.\n"
     ]
    },
    {
     "name": "stdout",
     "output_type": "stream",
     "text": [
      "10/16\n"
     ]
    },
    {
     "name": "stderr",
     "output_type": "stream",
     "text": [
      "Found overlapping on/off regions, choose less off regions\n",
      "ReflectedRegionsBackgroundMaker failed. No OFF region found outside exclusion mask for dataset '3635'.\n",
      "ReflectedRegionsBackgroundMaker failed. Setting 3635 mask to False.\n",
      "Found overlapping on/off regions, choose less off regions\n",
      "ReflectedRegionsBackgroundMaker failed. No OFF region found outside exclusion mask for dataset '3636'.\n",
      "ReflectedRegionsBackgroundMaker failed. Setting 3636 mask to False.\n",
      "Found overlapping on/off regions, choose less off regions\n",
      "ReflectedRegionsBackgroundMaker failed. No OFF region found outside exclusion mask for dataset '4069'.\n",
      "ReflectedRegionsBackgroundMaker failed. Setting 4069 mask to False.\n",
      "Found overlapping on/off regions, choose less off regions\n",
      "ReflectedRegionsBackgroundMaker failed. No OFF region found outside exclusion mask for dataset '4070'.\n",
      "ReflectedRegionsBackgroundMaker failed. Setting 4070 mask to False.\n",
      "Found overlapping on/off regions, choose less off regions\n",
      "ReflectedRegionsBackgroundMaker failed. No OFF region found outside exclusion mask for dataset '4071'.\n",
      "ReflectedRegionsBackgroundMaker failed. Setting 4071 mask to False.\n",
      "Found overlapping on/off regions, choose less off regions\n",
      "ReflectedRegionsBackgroundMaker failed. No OFF region found outside exclusion mask for dataset '4125'.\n",
      "ReflectedRegionsBackgroundMaker failed. Setting 4125 mask to False.\n",
      "/fefs/home/elisa.visentin/mambaforge-pypy3/envs/gammapy-v0.20.1/lib/python3.8/site-packages/gammapy/stats/counts_statistic.py:348: RuntimeWarning: invalid value encountered in float_scalars\n",
      "  alpha = self.n_bkg.sum(axis=axis) / n_off\n",
      "/fefs/home/elisa.visentin/mambaforge-pypy3/envs/gammapy-v0.20.1/lib/python3.8/site-packages/gammapy/stats/counts_statistic.py:348: RuntimeWarning: invalid value encountered in float_scalars\n",
      "  alpha = self.n_bkg.sum(axis=axis) / n_off\n",
      "/fefs/home/elisa.visentin/mambaforge-pypy3/envs/gammapy-v0.20.1/lib/python3.8/site-packages/gammapy/stats/counts_statistic.py:348: RuntimeWarning: invalid value encountered in float_scalars\n",
      "  alpha = self.n_bkg.sum(axis=axis) / n_off\n",
      "/fefs/home/elisa.visentin/mambaforge-pypy3/envs/gammapy-v0.20.1/lib/python3.8/site-packages/gammapy/stats/counts_statistic.py:348: RuntimeWarning: invalid value encountered in float_scalars\n",
      "  alpha = self.n_bkg.sum(axis=axis) / n_off\n"
     ]
    },
    {
     "name": "stdout",
     "output_type": "stream",
     "text": [
      "16/16\n"
     ]
    },
    {
     "name": "stderr",
     "output_type": "stream",
     "text": [
      "/fefs/home/elisa.visentin/mambaforge-pypy3/envs/gammapy-v0.20.1/lib/python3.8/site-packages/gammapy/stats/counts_statistic.py:348: RuntimeWarning: invalid value encountered in float_scalars\n",
      "  alpha = self.n_bkg.sum(axis=axis) / n_off\n",
      "/fefs/home/elisa.visentin/mambaforge-pypy3/envs/gammapy-v0.20.1/lib/python3.8/site-packages/gammapy/stats/counts_statistic.py:348: RuntimeWarning: invalid value encountered in float_scalars\n",
      "  alpha = self.n_bkg.sum(axis=axis) / n_off\n",
      "/fefs/home/elisa.visentin/mambaforge-pypy3/envs/gammapy-v0.20.1/lib/python3.8/site-packages/gammapy/stats/counts_statistic.py:348: RuntimeWarning: invalid value encountered in float_scalars\n",
      "  alpha = self.n_bkg.sum(axis=axis) / n_off\n",
      "/fefs/home/elisa.visentin/mambaforge-pypy3/envs/gammapy-v0.20.1/lib/python3.8/site-packages/gammapy/stats/counts_statistic.py:348: RuntimeWarning: invalid value encountered in float_scalars\n",
      "  alpha = self.n_bkg.sum(axis=axis) / n_off\n",
      "/fefs/home/elisa.visentin/mambaforge-pypy3/envs/gammapy-v0.20.1/lib/python3.8/site-packages/gammapy/stats/counts_statistic.py:348: RuntimeWarning: invalid value encountered in float_scalars\n",
      "  alpha = self.n_bkg.sum(axis=axis) / n_off\n",
      "/fefs/home/elisa.visentin/mambaforge-pypy3/envs/gammapy-v0.20.1/lib/python3.8/site-packages/gammapy/stats/counts_statistic.py:348: RuntimeWarning: invalid value encountered in float_scalars\n",
      "  alpha = self.n_bkg.sum(axis=axis) / n_off\n",
      "/fefs/home/elisa.visentin/mambaforge-pypy3/envs/gammapy-v0.20.1/lib/python3.8/site-packages/gammapy/stats/counts_statistic.py:348: RuntimeWarning: invalid value encountered in float_scalars\n",
      "  alpha = self.n_bkg.sum(axis=axis) / n_off\n",
      "/fefs/home/elisa.visentin/mambaforge-pypy3/envs/gammapy-v0.20.1/lib/python3.8/site-packages/gammapy/stats/counts_statistic.py:348: RuntimeWarning: invalid value encountered in float_scalars\n",
      "  alpha = self.n_bkg.sum(axis=axis) / n_off\n",
      "/fefs/home/elisa.visentin/mambaforge-pypy3/envs/gammapy-v0.20.1/lib/python3.8/site-packages/gammapy/stats/counts_statistic.py:348: RuntimeWarning: invalid value encountered in float_scalars\n",
      "  alpha = self.n_bkg.sum(axis=axis) / n_off\n",
      "/fefs/home/elisa.visentin/mambaforge-pypy3/envs/gammapy-v0.20.1/lib/python3.8/site-packages/gammapy/stats/counts_statistic.py:348: RuntimeWarning: invalid value encountered in float_scalars\n",
      "  alpha = self.n_bkg.sum(axis=axis) / n_off\n"
     ]
    },
    {
     "name": "stdout",
     "output_type": "stream",
     "text": [
      "(<Quantity [0.03, 0.03, 0.03, 0.03, 0.03, 0.03, 0.03, 0.03, 0.03, 0.03,\n",
      "           0.03, 0.03, 0.03, 0.03, 0.03, 0.03] TeV>, <Quantity [30., 30., 30., 30., 30., 30., 30., 30., 30., 30., 30., 30., 30.,\n",
      "           30., 30., 30.] TeV>)\n"
     ]
    },
    {
     "data": {
      "text/html": [
       "<div><i>Table length=16</i>\n",
       "<table id=\"table140095055725376\" class=\"table-striped table-bordered table-condensed\">\n",
       "<thead><tr><th>name</th><th>counts</th><th>excess</th><th>sqrt_ts</th><th>background</th><th>npred</th><th>npred_background</th><th>npred_signal</th><th>exposure_min</th><th>exposure_max</th><th>livetime</th><th>ontime</th><th>counts_rate</th><th>background_rate</th><th>excess_rate</th><th>n_bins</th><th>n_fit_bins</th><th>stat_type</th><th>stat_sum</th><th>counts_off</th><th>acceptance</th><th>acceptance_off</th><th>alpha</th></tr></thead>\n",
       "<thead><tr><th></th><th></th><th></th><th></th><th></th><th></th><th></th><th></th><th>m2 s</th><th>m2 s</th><th>s</th><th>s</th><th>1 / s</th><th>1 / s</th><th>1 / s</th><th></th><th></th><th></th><th></th><th></th><th></th><th></th><th></th></tr></thead>\n",
       "<thead><tr><th>str7</th><th>int64</th><th>float64</th><th>float64</th><th>float64</th><th>float64</th><th>float64</th><th>float64</th><th>float64</th><th>float64</th><th>float64</th><th>float64</th><th>float64</th><th>float64</th><th>float64</th><th>int64</th><th>int64</th><th>str5</th><th>float64</th><th>int64</th><th>float64</th><th>float64</th><th>float64</th></tr></thead>\n",
       "<tr><td>stacked</td><td>0</td><td>nan</td><td>nan</td><td>nan</td><td>nan</td><td>0.0</td><td>nan</td><td>0.0</td><td>0.0</td><td>nan</td><td>1012.2350344657898</td><td>nan</td><td>nan</td><td>nan</td><td>15</td><td>0</td><td>wstat</td><td>0.0</td><td>0</td><td>0.0</td><td>nan</td><td>nan</td></tr>\n",
       "<tr><td>stacked</td><td>0</td><td>nan</td><td>nan</td><td>nan</td><td>nan</td><td>0.0</td><td>nan</td><td>0.0</td><td>0.0</td><td>nan</td><td>2193.4696741104126</td><td>nan</td><td>nan</td><td>nan</td><td>15</td><td>0</td><td>wstat</td><td>0.0</td><td>0</td><td>0.0</td><td>nan</td><td>nan</td></tr>\n",
       "<tr><td>stacked</td><td>0</td><td>nan</td><td>nan</td><td>nan</td><td>nan</td><td>0.0</td><td>nan</td><td>0.0</td><td>0.0</td><td>nan</td><td>2279.9516406059265</td><td>nan</td><td>nan</td><td>nan</td><td>15</td><td>0</td><td>wstat</td><td>0.0</td><td>0</td><td>0.0</td><td>nan</td><td>nan</td></tr>\n",
       "<tr><td>stacked</td><td>0</td><td>nan</td><td>nan</td><td>nan</td><td>nan</td><td>0.0</td><td>nan</td><td>0.0</td><td>0.0</td><td>nan</td><td>3144.6825523376465</td><td>nan</td><td>nan</td><td>nan</td><td>15</td><td>0</td><td>wstat</td><td>0.0</td><td>0</td><td>0.0</td><td>nan</td><td>nan</td></tr>\n",
       "<tr><td>stacked</td><td>0</td><td>nan</td><td>nan</td><td>nan</td><td>nan</td><td>0.0</td><td>nan</td><td>0.0</td><td>0.0</td><td>nan</td><td>3990.525999546051</td><td>nan</td><td>nan</td><td>nan</td><td>15</td><td>0</td><td>wstat</td><td>0.0</td><td>0</td><td>0.0</td><td>nan</td><td>nan</td></tr>\n",
       "<tr><td>stacked</td><td>0</td><td>nan</td><td>nan</td><td>nan</td><td>nan</td><td>0.0</td><td>nan</td><td>0.0</td><td>0.0</td><td>nan</td><td>4806.458555698395</td><td>nan</td><td>nan</td><td>nan</td><td>15</td><td>0</td><td>wstat</td><td>0.0</td><td>0</td><td>0.0</td><td>nan</td><td>nan</td></tr>\n",
       "<tr><td>...</td><td>...</td><td>...</td><td>...</td><td>...</td><td>...</td><td>...</td><td>...</td><td>...</td><td>...</td><td>...</td><td>...</td><td>...</td><td>...</td><td>...</td><td>...</td><td>...</td><td>...</td><td>...</td><td>...</td><td>...</td><td>...</td><td>...</td></tr>\n",
       "<tr><td>stacked</td><td>205</td><td>157.3333282470703</td><td>13.391507100585121</td><td>47.66667175292969</td><td>87.00000751018501</td><td>87.00000751018501</td><td>nan</td><td>6010.5302734375</td><td>77142728.0</td><td>648.9675350018621</td><td>8971.379978656769</td><td>0.31588637172645595</td><td>0.07345000971858001</td><td>0.2424363620078759</td><td>15</td><td>14</td><td>wstat</td><td>252.20408750019848</td><td>143</td><td>14.0</td><td>41.999996185302734</td><td>0.3333333730697632</td></tr>\n",
       "<tr><td>stacked</td><td>205</td><td>157.3333282470703</td><td>13.391507100585121</td><td>47.66667175292969</td><td>87.00000751018501</td><td>87.00000751018501</td><td>nan</td><td>6010.5302734375</td><td>77142728.0</td><td>648.9675350018621</td><td>10153.16963505745</td><td>0.31588637172645595</td><td>0.07345000971858001</td><td>0.2424363620078759</td><td>15</td><td>14</td><td>wstat</td><td>252.20408750019848</td><td>143</td><td>14.0</td><td>41.999996185302734</td><td>0.3333333730697632</td></tr>\n",
       "<tr><td>stacked</td><td>205</td><td>157.3333282470703</td><td>13.391507100585121</td><td>47.66667175292969</td><td>87.00000751018501</td><td>87.00000751018501</td><td>nan</td><td>6010.5302734375</td><td>77142728.0</td><td>648.9675350018621</td><td>10935.85056233406</td><td>0.31588637172645595</td><td>0.07345000971858001</td><td>0.2424363620078759</td><td>15</td><td>14</td><td>wstat</td><td>252.20408750019848</td><td>143</td><td>14.0</td><td>41.999996185302734</td><td>0.3333333730697632</td></tr>\n",
       "<tr><td>stacked</td><td>205</td><td>157.3333282470703</td><td>13.391507100585121</td><td>47.66667175292969</td><td>87.00000751018501</td><td>87.00000751018501</td><td>nan</td><td>6010.5302734375</td><td>77142728.0</td><td>648.9675350018621</td><td>11818.078583240509</td><td>0.31588637172645595</td><td>0.07345000971858001</td><td>0.2424363620078759</td><td>15</td><td>14</td><td>wstat</td><td>252.20408750019848</td><td>143</td><td>14.0</td><td>41.999996185302734</td><td>0.3333333730697632</td></tr>\n",
       "<tr><td>stacked</td><td>205</td><td>157.3333282470703</td><td>13.391507100585121</td><td>47.66667175292969</td><td>87.00000751018501</td><td>87.00000751018501</td><td>nan</td><td>6010.5302734375</td><td>77142728.0</td><td>648.9675350018621</td><td>12643.63676905632</td><td>0.31588637172645595</td><td>0.07345000971858001</td><td>0.2424363620078759</td><td>15</td><td>14</td><td>wstat</td><td>252.20408750019848</td><td>143</td><td>14.0</td><td>41.999996185302734</td><td>0.3333333730697632</td></tr>\n",
       "<tr><td>stacked</td><td>205</td><td>157.3333282470703</td><td>13.391507100585121</td><td>47.66667175292969</td><td>87.00000751018501</td><td>87.00000751018501</td><td>nan</td><td>6010.5302734375</td><td>77142728.0</td><td>648.9675350018621</td><td>13777.70777630806</td><td>0.31588637172645595</td><td>0.07345000971858001</td><td>0.2424363620078759</td><td>15</td><td>14</td><td>wstat</td><td>252.20408750019848</td><td>143</td><td>14.0</td><td>41.999996185302734</td><td>0.3333333730697632</td></tr>\n",
       "</table></div>"
      ],
      "text/plain": [
       "<Table length=16>\n",
       "  name  counts       excess      ...   acceptance_off         alpha       \n",
       "                                 ...                                      \n",
       "  str7  int64       float64      ...      float64            float64      \n",
       "------- ------ ----------------- ... ------------------ ------------------\n",
       "stacked      0               nan ...                nan                nan\n",
       "stacked      0               nan ...                nan                nan\n",
       "stacked      0               nan ...                nan                nan\n",
       "stacked      0               nan ...                nan                nan\n",
       "stacked      0               nan ...                nan                nan\n",
       "stacked      0               nan ...                nan                nan\n",
       "    ...    ...               ... ...                ...                ...\n",
       "stacked    205 157.3333282470703 ... 41.999996185302734 0.3333333730697632\n",
       "stacked    205 157.3333282470703 ... 41.999996185302734 0.3333333730697632\n",
       "stacked    205 157.3333282470703 ... 41.999996185302734 0.3333333730697632\n",
       "stacked    205 157.3333282470703 ... 41.999996185302734 0.3333333730697632\n",
       "stacked    205 157.3333282470703 ... 41.999996185302734 0.3333333730697632\n",
       "stacked    205 157.3333282470703 ... 41.999996185302734 0.3333333730697632"
      ]
     },
     "execution_count": 100,
     "metadata": {},
     "output_type": "execute_result"
    }
   ],
   "source": [
    "datasets = Datasets()\n",
    "\n",
    "counts = Map.create(skydir=target_position, width=3)\n",
    "\n",
    "# Loop over every observation\n",
    "print(\"Running the makers...\")\n",
    "\n",
    "n_observations = len(observations)\n",
    "\n",
    "for i_obs, observation in enumerate(observations):\n",
    "    \n",
    "    if (i_obs % 10) == 0:\n",
    "        print(f\"{i_obs}/{n_observations}\")\n",
    "    \n",
    "    obs_id = observation.obs_id\n",
    "    \n",
    "    # Fill the number of events in the map\n",
    "    counts.fill_events(observation.events)\n",
    "\n",
    "    # Run the makers to the observation data\n",
    "    dataset = dataset_maker.run(dataset_empty.copy(name=str(obs_id)), observation)\n",
    "    dataset_on_off = bkg_maker.run(dataset, observation)\n",
    "    dataset_on_off = safe_mask_maker.run(dataset_on_off, observation)\n",
    "\n",
    "    datasets.append(dataset_on_off)\n",
    "\n",
    "print(f\"{n_observations}/{n_observations}\")\n",
    "\n",
    "# Get the information table\n",
    "info_table = datasets.info_table(cumulative=True)\n",
    "print(datasets.energy_ranges)\n",
    "# Show the table\n",
    "info_table"
   ]
  },
  {
   "cell_type": "markdown",
   "metadata": {},
   "source": [
    "Seconda sample"
   ]
  },
  {
   "cell_type": "code",
   "execution_count": 101,
   "metadata": {},
   "outputs": [
    {
     "name": "stdout",
     "output_type": "stream",
     "text": [
      "Running the makers...\n",
      "0/16\n"
     ]
    },
    {
     "name": "stderr",
     "output_type": "stream",
     "text": [
      "Found overlapping on/off regions, choose less off regions\n",
      "ReflectedRegionsBackgroundMaker failed. No OFF region found outside exclusion mask for dataset '2923'.\n",
      "ReflectedRegionsBackgroundMaker failed. Setting 2923 mask to False.\n",
      "Found overlapping on/off regions, choose less off regions\n",
      "ReflectedRegionsBackgroundMaker failed. No OFF region found outside exclusion mask for dataset '2924'.\n",
      "ReflectedRegionsBackgroundMaker failed. Setting 2924 mask to False.\n",
      "Found overlapping on/off regions, choose less off regions\n",
      "ReflectedRegionsBackgroundMaker failed. No OFF region found outside exclusion mask for dataset '3093'.\n",
      "ReflectedRegionsBackgroundMaker failed. Setting 3093 mask to False.\n",
      "Found overlapping on/off regions, choose less off regions\n",
      "ReflectedRegionsBackgroundMaker failed. No OFF region found outside exclusion mask for dataset '3265'.\n",
      "ReflectedRegionsBackgroundMaker failed. Setting 3265 mask to False.\n",
      "Found overlapping on/off regions, choose less off regions\n",
      "ReflectedRegionsBackgroundMaker failed. No OFF region found outside exclusion mask for dataset '3266'.\n",
      "ReflectedRegionsBackgroundMaker failed. Setting 3266 mask to False.\n",
      "Found overlapping on/off regions, choose less off regions\n",
      "ReflectedRegionsBackgroundMaker failed. No OFF region found outside exclusion mask for dataset '3267'.\n",
      "ReflectedRegionsBackgroundMaker failed. Setting 3267 mask to False.\n",
      "Found overlapping on/off regions, choose less off regions\n",
      "ReflectedRegionsBackgroundMaker failed. No OFF region found outside exclusion mask for dataset '3268'.\n",
      "ReflectedRegionsBackgroundMaker failed. Setting 3268 mask to False.\n",
      "Found overlapping on/off regions, choose less off regions\n",
      "ReflectedRegionsBackgroundMaker failed. No OFF region found outside exclusion mask for dataset '3633'.\n",
      "ReflectedRegionsBackgroundMaker failed. Setting 3633 mask to False.\n",
      "Found overlapping on/off regions, choose less off regions\n",
      "ReflectedRegionsBackgroundMaker failed. No OFF region found outside exclusion mask for dataset '3634'.\n",
      "ReflectedRegionsBackgroundMaker failed. Setting 3634 mask to False.\n"
     ]
    },
    {
     "name": "stdout",
     "output_type": "stream",
     "text": [
      "10/16\n"
     ]
    },
    {
     "name": "stderr",
     "output_type": "stream",
     "text": [
      "Found overlapping on/off regions, choose less off regions\n",
      "ReflectedRegionsBackgroundMaker failed. No OFF region found outside exclusion mask for dataset '3636'.\n",
      "ReflectedRegionsBackgroundMaker failed. Setting 3636 mask to False.\n",
      "Found overlapping on/off regions, choose less off regions\n",
      "ReflectedRegionsBackgroundMaker failed. No OFF region found outside exclusion mask for dataset '4069'.\n",
      "ReflectedRegionsBackgroundMaker failed. Setting 4069 mask to False.\n",
      "Found overlapping on/off regions, choose less off regions\n",
      "ReflectedRegionsBackgroundMaker failed. No OFF region found outside exclusion mask for dataset '4070'.\n",
      "ReflectedRegionsBackgroundMaker failed. Setting 4070 mask to False.\n",
      "Found overlapping on/off regions, choose less off regions\n",
      "ReflectedRegionsBackgroundMaker failed. No OFF region found outside exclusion mask for dataset '4071'.\n",
      "ReflectedRegionsBackgroundMaker failed. Setting 4071 mask to False.\n",
      "Found overlapping on/off regions, choose less off regions\n",
      "ReflectedRegionsBackgroundMaker failed. No OFF region found outside exclusion mask for dataset '4125'.\n",
      "ReflectedRegionsBackgroundMaker failed. Setting 4125 mask to False.\n",
      "/fefs/home/elisa.visentin/mambaforge-pypy3/envs/gammapy-v0.20.1/lib/python3.8/site-packages/gammapy/stats/counts_statistic.py:348: RuntimeWarning: invalid value encountered in float_scalars\n",
      "  alpha = self.n_bkg.sum(axis=axis) / n_off\n",
      "/fefs/home/elisa.visentin/mambaforge-pypy3/envs/gammapy-v0.20.1/lib/python3.8/site-packages/gammapy/stats/counts_statistic.py:348: RuntimeWarning: invalid value encountered in float_scalars\n",
      "  alpha = self.n_bkg.sum(axis=axis) / n_off\n",
      "/fefs/home/elisa.visentin/mambaforge-pypy3/envs/gammapy-v0.20.1/lib/python3.8/site-packages/gammapy/stats/counts_statistic.py:348: RuntimeWarning: invalid value encountered in float_scalars\n",
      "  alpha = self.n_bkg.sum(axis=axis) / n_off\n",
      "/fefs/home/elisa.visentin/mambaforge-pypy3/envs/gammapy-v0.20.1/lib/python3.8/site-packages/gammapy/stats/counts_statistic.py:348: RuntimeWarning: invalid value encountered in float_scalars\n",
      "  alpha = self.n_bkg.sum(axis=axis) / n_off\n"
     ]
    },
    {
     "name": "stdout",
     "output_type": "stream",
     "text": [
      "16/16\n"
     ]
    },
    {
     "name": "stderr",
     "output_type": "stream",
     "text": [
      "/fefs/home/elisa.visentin/mambaforge-pypy3/envs/gammapy-v0.20.1/lib/python3.8/site-packages/gammapy/stats/counts_statistic.py:348: RuntimeWarning: invalid value encountered in float_scalars\n",
      "  alpha = self.n_bkg.sum(axis=axis) / n_off\n",
      "/fefs/home/elisa.visentin/mambaforge-pypy3/envs/gammapy-v0.20.1/lib/python3.8/site-packages/gammapy/stats/counts_statistic.py:348: RuntimeWarning: invalid value encountered in float_scalars\n",
      "  alpha = self.n_bkg.sum(axis=axis) / n_off\n",
      "/fefs/home/elisa.visentin/mambaforge-pypy3/envs/gammapy-v0.20.1/lib/python3.8/site-packages/gammapy/stats/counts_statistic.py:348: RuntimeWarning: invalid value encountered in float_scalars\n",
      "  alpha = self.n_bkg.sum(axis=axis) / n_off\n",
      "/fefs/home/elisa.visentin/mambaforge-pypy3/envs/gammapy-v0.20.1/lib/python3.8/site-packages/gammapy/stats/counts_statistic.py:348: RuntimeWarning: invalid value encountered in float_scalars\n",
      "  alpha = self.n_bkg.sum(axis=axis) / n_off\n",
      "/fefs/home/elisa.visentin/mambaforge-pypy3/envs/gammapy-v0.20.1/lib/python3.8/site-packages/gammapy/stats/counts_statistic.py:348: RuntimeWarning: invalid value encountered in float_scalars\n",
      "  alpha = self.n_bkg.sum(axis=axis) / n_off\n",
      "/fefs/home/elisa.visentin/mambaforge-pypy3/envs/gammapy-v0.20.1/lib/python3.8/site-packages/gammapy/stats/counts_statistic.py:348: RuntimeWarning: invalid value encountered in float_scalars\n",
      "  alpha = self.n_bkg.sum(axis=axis) / n_off\n",
      "/fefs/home/elisa.visentin/mambaforge-pypy3/envs/gammapy-v0.20.1/lib/python3.8/site-packages/gammapy/stats/counts_statistic.py:348: RuntimeWarning: invalid value encountered in float_scalars\n",
      "  alpha = self.n_bkg.sum(axis=axis) / n_off\n",
      "/fefs/home/elisa.visentin/mambaforge-pypy3/envs/gammapy-v0.20.1/lib/python3.8/site-packages/gammapy/stats/counts_statistic.py:348: RuntimeWarning: invalid value encountered in float_scalars\n",
      "  alpha = self.n_bkg.sum(axis=axis) / n_off\n",
      "/fefs/home/elisa.visentin/mambaforge-pypy3/envs/gammapy-v0.20.1/lib/python3.8/site-packages/gammapy/stats/counts_statistic.py:348: RuntimeWarning: invalid value encountered in float_scalars\n",
      "  alpha = self.n_bkg.sum(axis=axis) / n_off\n",
      "/fefs/home/elisa.visentin/mambaforge-pypy3/envs/gammapy-v0.20.1/lib/python3.8/site-packages/gammapy/stats/counts_statistic.py:348: RuntimeWarning: invalid value encountered in float_scalars\n",
      "  alpha = self.n_bkg.sum(axis=axis) / n_off\n"
     ]
    },
    {
     "name": "stdout",
     "output_type": "stream",
     "text": [
      "(<Quantity [0.03, 0.03, 0.03, 0.03, 0.03, 0.03, 0.03, 0.03, 0.03, 0.03,\n",
      "           0.03, 0.03, 0.03, 0.03, 0.03, 0.03] TeV>, <Quantity [30., 30., 30., 30., 30., 30., 30., 30., 30., 30., 30., 30., 30.,\n",
      "           30., 30., 30.] TeV>)\n"
     ]
    }
   ],
   "source": [
    "if double :\n",
    "    datasets_1 = Datasets()\n",
    "\n",
    "    counts_1 = Map.create(skydir=target_position_1, width=3)\n",
    "\n",
    "    # Loop over every observation\n",
    "    print(\"Running the makers...\")\n",
    "\n",
    "    n_observations_1 = len(observations_1)\n",
    "\n",
    "    for i_obs, observation in enumerate(observations_1):\n",
    "\n",
    "        if (i_obs % 10) == 0:\n",
    "            print(f\"{i_obs}/{n_observations_1}\")\n",
    "\n",
    "        obs_id = observation.obs_id\n",
    "\n",
    "        # Fill the number of events in the map\n",
    "        counts_1.fill_events(observation.events)\n",
    "\n",
    "        # Run the makers to the observation data\n",
    "        dataset = dataset_maker_1.run(dataset_empty_1.copy(name=str(obs_id)), observation)\n",
    "        dataset_on_off = bkg_maker_1.run(dataset, observation)\n",
    "        dataset_on_off = safe_mask_maker_1.run(dataset_on_off, observation)\n",
    "\n",
    "        datasets_1.append(dataset_on_off)\n",
    "\n",
    "    print(f\"{n_observations_1}/{n_observations_1}\")\n",
    "\n",
    "    # Get the information table\n",
    "    info_table_1 = datasets_1.info_table(cumulative=True)\n",
    "    print(datasets_1.energy_ranges)\n",
    "    \n",
    "    # Show the table\n",
    "    info_table_1"
   ]
  },
  {
   "cell_type": "code",
   "execution_count": 102,
   "metadata": {},
   "outputs": [
    {
     "data": {
      "text/html": [
       "<div><i>Table length=16</i>\n",
       "<table id=\"table140095116446160\" class=\"table-striped table-bordered table-condensed\">\n",
       "<thead><tr><th>name</th><th>counts</th><th>excess</th><th>sqrt_ts</th><th>background</th><th>npred</th><th>npred_background</th><th>npred_signal</th><th>exposure_min</th><th>exposure_max</th><th>livetime</th><th>ontime</th><th>counts_rate</th><th>background_rate</th><th>excess_rate</th><th>n_bins</th><th>n_fit_bins</th><th>stat_type</th><th>stat_sum</th><th>counts_off</th><th>acceptance</th><th>acceptance_off</th><th>alpha</th></tr></thead>\n",
       "<thead><tr><th></th><th></th><th></th><th></th><th></th><th></th><th></th><th></th><th>m2 s</th><th>m2 s</th><th>s</th><th>s</th><th>1 / s</th><th>1 / s</th><th>1 / s</th><th></th><th></th><th></th><th></th><th></th><th></th><th></th><th></th></tr></thead>\n",
       "<thead><tr><th>str7</th><th>int64</th><th>float64</th><th>float64</th><th>float64</th><th>float64</th><th>float64</th><th>float64</th><th>float64</th><th>float64</th><th>float64</th><th>float64</th><th>float64</th><th>float64</th><th>float64</th><th>int64</th><th>int64</th><th>str5</th><th>float64</th><th>int64</th><th>float64</th><th>float64</th><th>float64</th></tr></thead>\n",
       "<tr><td>stacked</td><td>0</td><td>nan</td><td>nan</td><td>nan</td><td>nan</td><td>0.0</td><td>nan</td><td>0.0</td><td>0.0</td><td>nan</td><td>1012.2350344657898</td><td>nan</td><td>nan</td><td>nan</td><td>15</td><td>0</td><td>wstat</td><td>0.0</td><td>0</td><td>0.0</td><td>nan</td><td>nan</td></tr>\n",
       "<tr><td>stacked</td><td>0</td><td>nan</td><td>nan</td><td>nan</td><td>nan</td><td>0.0</td><td>nan</td><td>0.0</td><td>0.0</td><td>nan</td><td>2193.4696741104126</td><td>nan</td><td>nan</td><td>nan</td><td>15</td><td>0</td><td>wstat</td><td>0.0</td><td>0</td><td>0.0</td><td>nan</td><td>nan</td></tr>\n",
       "<tr><td>stacked</td><td>0</td><td>nan</td><td>nan</td><td>nan</td><td>nan</td><td>0.0</td><td>nan</td><td>0.0</td><td>0.0</td><td>nan</td><td>2279.9088938236237</td><td>nan</td><td>nan</td><td>nan</td><td>15</td><td>0</td><td>wstat</td><td>0.0</td><td>0</td><td>0.0</td><td>nan</td><td>nan</td></tr>\n",
       "<tr><td>stacked</td><td>0</td><td>nan</td><td>nan</td><td>nan</td><td>nan</td><td>0.0</td><td>nan</td><td>0.0</td><td>0.0</td><td>nan</td><td>3144.2763636112213</td><td>nan</td><td>nan</td><td>nan</td><td>15</td><td>0</td><td>wstat</td><td>0.0</td><td>0</td><td>0.0</td><td>nan</td><td>nan</td></tr>\n",
       "<tr><td>stacked</td><td>0</td><td>nan</td><td>nan</td><td>nan</td><td>nan</td><td>0.0</td><td>nan</td><td>0.0</td><td>0.0</td><td>nan</td><td>3990.119810819626</td><td>nan</td><td>nan</td><td>nan</td><td>15</td><td>0</td><td>wstat</td><td>0.0</td><td>0</td><td>0.0</td><td>nan</td><td>nan</td></tr>\n",
       "<tr><td>stacked</td><td>0</td><td>nan</td><td>nan</td><td>nan</td><td>nan</td><td>0.0</td><td>nan</td><td>0.0</td><td>0.0</td><td>nan</td><td>4806.05236697197</td><td>nan</td><td>nan</td><td>nan</td><td>15</td><td>0</td><td>wstat</td><td>0.0</td><td>0</td><td>0.0</td><td>nan</td><td>nan</td></tr>\n",
       "<tr><td>...</td><td>...</td><td>...</td><td>...</td><td>...</td><td>...</td><td>...</td><td>...</td><td>...</td><td>...</td><td>...</td><td>...</td><td>...</td><td>...</td><td>...</td><td>...</td><td>...</td><td>...</td><td>...</td><td>...</td><td>...</td><td>...</td><td>...</td></tr>\n",
       "<tr><td>stacked</td><td>520</td><td>407.6666564941406</td><td>22.06737639123549</td><td>112.33333587646484</td><td>214.25001134350867</td><td>214.25001134350867</td><td>nan</td><td>7571.4482421875</td><td>240577728.0</td><td>1618.325309537474</td><td>8970.973789930344</td><td>0.32131982175364904</td><td>0.06941332204003552</td><td>0.2519064949992372</td><td>15</td><td>14</td><td>wstat</td><td>640.565165343449</td><td>337</td><td>14.0</td><td>42.0</td><td>0.3333333432674408</td></tr>\n",
       "<tr><td>stacked</td><td>520</td><td>407.6666564941406</td><td>22.06737639123549</td><td>112.33333587646484</td><td>214.25001134350867</td><td>214.25001134350867</td><td>nan</td><td>7571.4482421875</td><td>240577728.0</td><td>1618.325309537474</td><td>10152.763446331024</td><td>0.32131982175364904</td><td>0.06941332204003552</td><td>0.2519064949992372</td><td>15</td><td>14</td><td>wstat</td><td>640.565165343449</td><td>337</td><td>14.0</td><td>42.0</td><td>0.3333333432674408</td></tr>\n",
       "<tr><td>stacked</td><td>520</td><td>407.6666564941406</td><td>22.06737639123549</td><td>112.33333587646484</td><td>214.25001134350867</td><td>214.25001134350867</td><td>nan</td><td>7571.4482421875</td><td>240577728.0</td><td>1618.325309537474</td><td>10935.444373607635</td><td>0.32131982175364904</td><td>0.06941332204003552</td><td>0.2519064949992372</td><td>15</td><td>14</td><td>wstat</td><td>640.565165343449</td><td>337</td><td>14.0</td><td>42.0</td><td>0.3333333432674408</td></tr>\n",
       "<tr><td>stacked</td><td>520</td><td>407.6666564941406</td><td>22.06737639123549</td><td>112.33333587646484</td><td>214.25001134350867</td><td>214.25001134350867</td><td>nan</td><td>7571.4482421875</td><td>240577728.0</td><td>1618.325309537474</td><td>11817.672394514084</td><td>0.32131982175364904</td><td>0.06941332204003552</td><td>0.2519064949992372</td><td>15</td><td>14</td><td>wstat</td><td>640.565165343449</td><td>337</td><td>14.0</td><td>42.0</td><td>0.3333333432674408</td></tr>\n",
       "<tr><td>stacked</td><td>520</td><td>407.6666564941406</td><td>22.06737639123549</td><td>112.33333587646484</td><td>214.25001134350867</td><td>214.25001134350867</td><td>nan</td><td>7571.4482421875</td><td>240577728.0</td><td>1618.325309537474</td><td>12643.433771848679</td><td>0.32131982175364904</td><td>0.06941332204003552</td><td>0.2519064949992372</td><td>15</td><td>14</td><td>wstat</td><td>640.565165343449</td><td>337</td><td>14.0</td><td>42.0</td><td>0.3333333432674408</td></tr>\n",
       "<tr><td>stacked</td><td>520</td><td>407.6666564941406</td><td>22.06737639123549</td><td>112.33333587646484</td><td>214.25001134350867</td><td>214.25001134350867</td><td>nan</td><td>7571.4482421875</td><td>240577728.0</td><td>1618.325309537474</td><td>13776.609112262726</td><td>0.32131982175364904</td><td>0.06941332204003552</td><td>0.2519064949992372</td><td>15</td><td>14</td><td>wstat</td><td>640.565165343449</td><td>337</td><td>14.0</td><td>42.0</td><td>0.3333333432674408</td></tr>\n",
       "</table></div>"
      ],
      "text/plain": [
       "<Table length=16>\n",
       "  name  counts       excess      ... acceptance_off       alpha       \n",
       "                                 ...                                  \n",
       "  str7  int64       float64      ...    float64          float64      \n",
       "------- ------ ----------------- ... -------------- ------------------\n",
       "stacked      0               nan ...            nan                nan\n",
       "stacked      0               nan ...            nan                nan\n",
       "stacked      0               nan ...            nan                nan\n",
       "stacked      0               nan ...            nan                nan\n",
       "stacked      0               nan ...            nan                nan\n",
       "stacked      0               nan ...            nan                nan\n",
       "    ...    ...               ... ...            ...                ...\n",
       "stacked    520 407.6666564941406 ...           42.0 0.3333333432674408\n",
       "stacked    520 407.6666564941406 ...           42.0 0.3333333432674408\n",
       "stacked    520 407.6666564941406 ...           42.0 0.3333333432674408\n",
       "stacked    520 407.6666564941406 ...           42.0 0.3333333432674408\n",
       "stacked    520 407.6666564941406 ...           42.0 0.3333333432674408\n",
       "stacked    520 407.6666564941406 ...           42.0 0.3333333432674408"
      ]
     },
     "execution_count": 102,
     "metadata": {},
     "output_type": "execute_result"
    }
   ],
   "source": [
    "info_table_1"
   ]
  },
  {
   "cell_type": "markdown",
   "metadata": {},
   "source": [
    "Some plots (first sample)"
   ]
  },
  {
   "cell_type": "code",
   "execution_count": 103,
   "metadata": {
    "scrolled": false
   },
   "outputs": [
    {
     "ename": "AttributeError",
     "evalue": "'NoneType' object has no attribute 'plot_region'",
     "output_type": "error",
     "traceback": [
      "\u001b[0;31m---------------------------------------------------------------------------\u001b[0m",
      "\u001b[0;31mAttributeError\u001b[0m                            Traceback (most recent call last)",
      "Cell \u001b[0;32mIn[103], line 13\u001b[0m\n\u001b[1;32m     11\u001b[0m     plot_spectrum_datasets_off_regions(datasets, ax)\n\u001b[1;32m     12\u001b[0m \u001b[38;5;28;01melse\u001b[39;00m:\n\u001b[0;32m---> 13\u001b[0m     \u001b[43mplot_spectrum_datasets_off_regions\u001b[49m\u001b[43m(\u001b[49m\u001b[43mdatasets\u001b[49m\u001b[43m[\u001b[49m\u001b[38;5;241;43m0\u001b[39;49m\u001b[43m:\u001b[49m\u001b[38;5;241;43m10\u001b[39;49m\u001b[43m]\u001b[49m\u001b[43m,\u001b[49m\u001b[43m \u001b[49m\u001b[43max\u001b[49m\u001b[43m)\u001b[49m\n\u001b[1;32m     15\u001b[0m ax\u001b[38;5;241m.\u001b[39mgrid()\n",
      "File \u001b[0;32m/fefs/home/elisa.visentin/mambaforge-pypy3/envs/gammapy-v0.20.1/lib/python3.8/site-packages/gammapy/visualization/utils.py:95\u001b[0m, in \u001b[0;36mplot_spectrum_datasets_off_regions\u001b[0;34m(datasets, ax, legend, legend_kwargs, **kwargs)\u001b[0m\n\u001b[1;32m     92\u001b[0m plot_kwargs\u001b[38;5;241m.\u001b[39msetdefault(\u001b[38;5;124m\"\u001b[39m\u001b[38;5;124medgecolor\u001b[39m\u001b[38;5;124m\"\u001b[39m, props\u001b[38;5;241m.\u001b[39mpop(\u001b[38;5;124m\"\u001b[39m\u001b[38;5;124mcolor\u001b[39m\u001b[38;5;124m\"\u001b[39m))\n\u001b[1;32m     93\u001b[0m plot_kwargs\u001b[38;5;241m.\u001b[39mupdate(props)\n\u001b[0;32m---> 95\u001b[0m \u001b[43mdataset\u001b[49m\u001b[38;5;241;43m.\u001b[39;49m\u001b[43mcounts_off\u001b[49m\u001b[38;5;241;43m.\u001b[39;49m\u001b[43mplot_region\u001b[49m(ax, \u001b[38;5;241m*\u001b[39m\u001b[38;5;241m*\u001b[39mplot_kwargs)\n\u001b[1;32m     97\u001b[0m \u001b[38;5;66;03m# create proxy artist for the custom legend\u001b[39;00m\n\u001b[1;32m     98\u001b[0m \u001b[38;5;28;01mif\u001b[39;00m legend:\n",
      "\u001b[0;31mAttributeError\u001b[0m: 'NoneType' object has no attribute 'plot_region'"
     ]
    },
    {
     "data": {
      "image/png": "[encoded data removed]",
      "text/plain": [
       "<Figure size 1200x900 with 2 Axes>"
      ]
     },
     "metadata": {},
     "output_type": "display_data"
    }
   ],
   "source": [
    "plt.figure()\n",
    "\n",
    "# Plot the count map\n",
    "ax = counts.plot(add_cbar=True)\n",
    "\n",
    "# Plot the ON position\n",
    "on_geom.plot_region(ax=ax, edgecolor=\"red\")\n",
    "\n",
    "# Plot the OFF positions (only the first part of observations)\n",
    "if n_observations < 10:\n",
    "    plot_spectrum_datasets_off_regions(datasets, ax)\n",
    "else:\n",
    "    plot_spectrum_datasets_off_regions(datasets[0:10], ax)\n",
    "\n",
    "ax.grid()"
   ]
  },
  {
   "cell_type": "code",
   "execution_count": null,
   "metadata": {},
   "outputs": [],
   "source": [
    "plt.figure(figsize=(20, 7))\n",
    "grid = (1, 2)\n",
    "\n",
    "# Plot the number of events along the livetime\n",
    "plt.subplot2grid(grid, (0, 0))\n",
    "plt.xlabel(\"Livetime [hour]\")\n",
    "plt.ylabel(\"Number of events\")\n",
    "\n",
    "plt.plot(\n",
    "    info_table[\"livetime\"].to(\"h\"),\n",
    "    info_table[\"excess\"],\n",
    "    marker=\"o\",\n",
    "    linestyle=\"--\",\n",
    "    label=\"Excess\",\n",
    ")\n",
    "\n",
    "plt.plot(\n",
    "    info_table[\"livetime\"].to(\"h\"),\n",
    "    info_table[\"background\"],\n",
    "    marker=\"o\",\n",
    "    linestyle=\"--\",\n",
    "    label=\"Background\",\n",
    ")\n",
    "\n",
    "plt.grid()\n",
    "plt.legend()\n",
    "\n",
    "# Plot the significance along the livetime\n",
    "plt.subplot2grid(grid, (0, 1))\n",
    "plt.xlabel(\"Livetime [hour]\")\n",
    "plt.ylabel(\"Sqrt(TS)\")\n",
    "\n",
    "plt.plot(\n",
    "    info_table[\"livetime\"].to(\"h\"), info_table[\"sqrt_ts\"], marker=\"o\", linestyle=\"--\"\n",
    ")\n",
    "\n",
    "plt.grid()"
   ]
  },
  {
   "cell_type": "markdown",
   "metadata": {},
   "source": [
    "# Fit the spectrum"
   ]
  },
  {
   "cell_type": "code",
   "execution_count": null,
   "metadata": {},
   "outputs": [],
   "source": [
    "source_name=\"Crab Nebula\"\n",
    "\n",
    "spectral_model = LogParabolaSpectralModel(\n",
    "    amplitude=u.Quantity(5e-12, unit=\"cm-2 s-1 TeV-1\"),\n",
    "    alpha=2,\n",
    "    beta=0.1,\n",
    "    reference=u.Quantity(1, unit=\"TeV\"),\n",
    ")\n",
    "\n",
    "# ============\n",
    "# === Main ===\n",
    "# ============\n",
    "\n",
    "sky_model = SkyModel(spectral_model=spectral_model.copy(), name=source_name)\n",
    "\n",
    "# Add the model to the stacked dataset\n",
    "stacked_dataset = datasets.stack_reduce()\n",
    "stacked_dataset.models = [sky_model]\n",
    "\n",
    "if double:    \n",
    "    stacked_dataset_1 = datasets_1.stack_reduce()\n",
    "    stacked_dataset_1.models = [sky_model]\n",
    "\n",
    "# Fit the spectral model\n",
    "fit = Fit()"
   ]
  },
  {
   "cell_type": "markdown",
   "metadata": {},
   "source": [
    "First sample"
   ]
  },
  {
   "cell_type": "code",
   "execution_count": null,
   "metadata": {
    "scrolled": true
   },
   "outputs": [],
   "source": [
    "results = fit.run(datasets=stacked_dataset)\n",
    "print(results)\n",
    "\n",
    "# Keep the best fit model\n",
    "best_fit_model = stacked_dataset.models[0].spectral_model.copy()\n",
    "\n",
    "# Show the fitted parameters\n",
    "stacked_dataset.models.to_parameters_table()"
   ]
  },
  {
   "cell_type": "markdown",
   "metadata": {},
   "source": [
    "Second sample"
   ]
  },
  {
   "cell_type": "code",
   "execution_count": null,
   "metadata": {
    "scrolled": false
   },
   "outputs": [],
   "source": [
    "if double:    \n",
    "    results_1 = fit.run(datasets=stacked_dataset_1)\n",
    "    print(results_1)\n",
    "\n",
    "    # Keep the best fit model\n",
    "    best_fit_model_1 = stacked_dataset_1.models[0].spectral_model.copy()\n",
    "\n",
    "    # Show the fitted parameters\n",
    "    stacked_dataset_1.models.to_parameters_table()\n"
   ]
  },
  {
   "cell_type": "markdown",
   "metadata": {},
   "source": [
    "Plots"
   ]
  },
  {
   "cell_type": "code",
   "execution_count": null,
   "metadata": {},
   "outputs": [],
   "source": [
    "plt.figure()\n",
    "\n",
    "# Plot the number of excess and predicted events\n",
    "ax_spectrum, ax_residuals = stacked_dataset.plot_fit()\n",
    "\n",
    "ax_spectrum.set_ylabel(\"Number of events\")\n",
    "ax_spectrum.grid()\n",
    "\n",
    "plt.setp(ax_spectrum.get_xticklabels(), visible=False)\n",
    "plt.subplots_adjust(hspace=0)\n",
    "\n",
    "ax_residuals.grid()"
   ]
  },
  {
   "cell_type": "code",
   "execution_count": null,
   "metadata": {},
   "outputs": [],
   "source": [
    "if double:\n",
    "    plt.figure()\n",
    "\n",
    "    # Plot the number of excess and predicted events\n",
    "    ax_spectrum, ax_residuals = stacked_dataset_1.plot_fit()\n",
    "\n",
    "    ax_spectrum.set_ylabel(\"Number of events\")\n",
    "    ax_spectrum.grid()\n",
    "\n",
    "    plt.setp(ax_spectrum.get_xticklabels(), visible=False)\n",
    "    plt.subplots_adjust(hspace=0)\n",
    "\n",
    "    ax_residuals.grid()"
   ]
  },
  {
   "cell_type": "markdown",
   "metadata": {},
   "source": [
    "# Estimate the flux points"
   ]
  },
  {
   "cell_type": "code",
   "execution_count": null,
   "metadata": {},
   "outputs": [],
   "source": [
    "# Create a flux point estimator\n",
    "flux_points_estimator = FluxPointsEstimator(\n",
    "    energy_edges=energy_axis.edges, source=source_name, selection_optional=\"all\"\n",
    ")"
   ]
  },
  {
   "cell_type": "markdown",
   "metadata": {},
   "source": [
    "First sample"
   ]
  },
  {
   "cell_type": "code",
   "execution_count": null,
   "metadata": {
    "scrolled": true
   },
   "outputs": [],
   "source": [
    "# Run the flux point estimator to the datasets\n",
    "print(\"Running the flux points estimator...\")\n",
    "flux_points = flux_points_estimator.run(datasets=stacked_dataset)\n",
    "\n",
    "# Show the flux points table\n",
    "flux_points.to_table(sed_type=\"e2dnde\", formatted=True)"
   ]
  },
  {
   "cell_type": "markdown",
   "metadata": {},
   "source": [
    "Second sample"
   ]
  },
  {
   "cell_type": "code",
   "execution_count": null,
   "metadata": {},
   "outputs": [],
   "source": [
    "if double:\n",
    "    # Run the flux point estimator to the datasets\n",
    "    print(\"Running the flux points estimator...\")\n",
    "    flux_points_1 = flux_points_estimator.run(datasets=stacked_dataset_1)\n",
    "\n",
    "    # Show the flux points table\n",
    "    flux_points_1.to_table(sed_type=\"e2dnde\", formatted=True)"
   ]
  },
  {
   "cell_type": "markdown",
   "metadata": {},
   "source": [
    "SED plot"
   ]
  },
  {
   "cell_type": "code",
   "execution_count": null,
   "metadata": {
    "scrolled": false
   },
   "outputs": [],
   "source": [
    "# ================\n",
    "# === Settings ===\n",
    "# ================\n",
    "\n",
    "sed_type = \"e2dnde\"\n",
    "yunits = u.Unit(\"erg cm-2 s-1\")\n",
    "#yunits = \"TeV cm-2 s-1\"\n",
    "crab_model = create_crab_spectral_model(\"magic_lp\")\n",
    "print(crab_model)\n",
    "reference_models = {\n",
    "    \"Crab reference (MAGIC, JHEAp 2015)\": crab_model,\n",
    "    \n",
    "}\n",
    "#unit = u.Unit('TeV cm-2 s-1')\n",
    "# ============\n",
    "# === Main ===\n",
    "# ============\n",
    "from astropy import visualization\n",
    "\n",
    "with visualization.quantity_support():\n",
    "    plt.figure()\n",
    "\n",
    "    energy_bounds = energy_axis.edges[[0, -1]]\n",
    "\n",
    "    lines = itertools.cycle([\"--\", \"-.\", \":\"])\n",
    "\n",
    "    # Plot the flux points\n",
    "    ax = flux_points.plot(sed_type=sed_type, label=\"LST-1 + MAGIC (this work), -bias,pointing weights\")\n",
    "    if double:\n",
    "        ax = flux_points_1.plot(sed_type=sed_type, label=\"LST-1 + MAGIC (this work),  pointing weights\")\n",
    "    \n",
    "\n",
    "    # Plot the best fit model and its error, first sample\n",
    "    best_fit_model.plot(\n",
    "        ax=ax,\n",
    "        energy_bounds=energy_bounds,\n",
    "        sed_type=sed_type,\n",
    "        yunits=yunits,\n",
    "        color=colors[0],\n",
    "        label=\"Best fit model, s\"\n",
    "    )\n",
    "\n",
    "    best_fit_model.plot_error(\n",
    "        ax=ax,\n",
    "        energy_bounds=energy_bounds,\n",
    "        sed_type=sed_type,\n",
    "        yunits=yunits,\n",
    "        facecolor=colors[0],\n",
    "    )\n",
    "    \n",
    "    if double:\n",
    "        # Plot the best fit model and its error, seconda sample\n",
    "        best_fit_model_1.plot(\n",
    "            ax=ax,\n",
    "            energy_bounds=energy_bounds,\n",
    "            sed_type=sed_type,\n",
    "            yunits=yunits,\n",
    "            color=colors[1],\n",
    "            label=\"Best fit model, -bias, \"\n",
    "        )\n",
    "\n",
    "        best_fit_model_1.plot_error(\n",
    "            ax=ax,\n",
    "            energy_bounds=energy_bounds,\n",
    "            sed_type=sed_type,\n",
    "            yunits=yunits,\n",
    "            facecolor=colors[1],\n",
    "        )\n",
    "    \n",
    "   \n",
    "    # Plot the reference spectra\n",
    "    for label, model in reference_models.items():\n",
    "\n",
    "        model.plot(\n",
    "            ax=ax,\n",
    "            energy_bounds=energy_bounds,\n",
    "            sed_type=sed_type,\n",
    "            yunits=yunits,\n",
    "            label=label,\n",
    "            linestyle=next(lines)\n",
    "        )\n",
    "\n",
    "    ax.set_title(f\"Spectral Energy Distribution of {source_name}\")\n",
    "    \n",
    "    ax.set_ylim(1e-12)\n",
    "    ax.grid(which=\"both\")\n",
    "    ax.legend(loc=\"lower left\")\n"
   ]
  },
  {
   "cell_type": "markdown",
   "metadata": {},
   "source": [
    "# Estimate the light curve"
   ]
  },
  {
   "cell_type": "markdown",
   "metadata": {},
   "source": [
    "Setting + First sample"
   ]
  },
  {
   "cell_type": "code",
   "execution_count": null,
   "metadata": {
    "scrolled": false
   },
   "outputs": [],
   "source": [
    "# ================\n",
    "# === Settings ===\n",
    "# ================\n",
    "\n",
    "frozen_params = [\"alpha\", \"beta\"]\n",
    "\n",
    "# ============\n",
    "# === Main ===\n",
    "# ============\n",
    "\n",
    "sky_model = SkyModel(\n",
    "    spectral_model=best_fit_model.copy(), name=source_name\n",
    ")\n",
    "\n",
    "# Freeze the spectral parameters\n",
    "for param in frozen_params:\n",
    "    sky_model.parameters[param].frozen = True\n",
    "    \n",
    "# Add the model to the datasets\n",
    "datasets.models = [sky_model]\n",
    "\n",
    "print(sky_model)\n"
   ]
  },
  {
   "cell_type": "markdown",
   "metadata": {},
   "source": [
    "Second sample"
   ]
  },
  {
   "cell_type": "code",
   "execution_count": null,
   "metadata": {},
   "outputs": [],
   "source": [
    "if double:\n",
    "    sky_model_1 = SkyModel(\n",
    "        spectral_model=best_fit_model_1.copy(), name=source_name\n",
    "    )\n",
    "\n",
    "    # Freeze the spectral parameters\n",
    "    for param in frozen_params:\n",
    "        sky_model_1.parameters[param].frozen = True\n",
    "\n",
    "    # Add the model to the datasets\n",
    "    datasets_1.models = [sky_model_1]\n",
    "\n",
    "    print(sky_model_1)\n"
   ]
  },
  {
   "cell_type": "markdown",
   "metadata": {},
   "source": [
    "### Light curve "
   ]
  },
  {
   "cell_type": "code",
   "execution_count": null,
   "metadata": {},
   "outputs": [],
   "source": [
    "# ================\n",
    "# === Settings ===\n",
    "# ================\n",
    "\n",
    "energy_edges = energy_axis.edges[[1,-1]]\n",
    "print(energy_edges)\n",
    "\n",
    "#time_intervals = [\n",
    "#    Time([59171.98, 59172.01], format=\"mjd\", scale=\"utc\"),\n",
    "#    Time([59190.98, 59190.99], format=\"mjd\", scale=\"utc\"),\n",
    "#    Time([59198.89, 59198.94], format=\"mjd\", scale=\"utc\"),\n",
    "#    Time([59258.91, 59258.99], format=\"mjd\", scale=\"utc\"),\n",
    "#    Time([59288.91, 59288.94], format=\"mjd\", scale=\"utc\"),\n",
    "#    Time([59290.94, 59290.96], format=\"mjd\", scale=\"utc\"),\n",
    "#]   # e.g. daily light curve \n",
    "\n",
    "time_intervals=None# `None` means \"run-wise\"\n",
    "\n",
    "# ============\n",
    "# === Main ===\n",
    "# ============\n",
    "\n",
    "# Create a light curve estimator\n",
    "light_curve_estimator = LightCurveEstimator(\n",
    "    energy_edges=energy_edges,\n",
    "    time_intervals=time_intervals,\n",
    "    source=source_name,\n",
    "    selection_optional=\"all\",\n",
    ")"
   ]
  },
  {
   "cell_type": "markdown",
   "metadata": {},
   "source": [
    "First sample"
   ]
  },
  {
   "cell_type": "code",
   "execution_count": null,
   "metadata": {
    "scrolled": true
   },
   "outputs": [],
   "source": [
    "# Run the light curve estimator to the datasets\n",
    "print(\"Running the light curve estimator...\")\n",
    "light_curve = light_curve_estimator.run(datasets=datasets)\n",
    "\n",
    "# Show the light curve table\n",
    "light_curve.to_table(sed_type=\"flux\", format=\"lightcurve\")\n"
   ]
  },
  {
   "cell_type": "markdown",
   "metadata": {},
   "source": [
    "Seconda sample"
   ]
  },
  {
   "cell_type": "code",
   "execution_count": null,
   "metadata": {},
   "outputs": [],
   "source": [
    "if double:\n",
    "    # Run the light curve estimator to the datasets\n",
    "    print(\"Running the light curve estimator...\")\n",
    "    light_curve_1 = light_curve_estimator.run(datasets=datasets_1)\n",
    "\n",
    "    # Show the light curve table\n",
    "    light_curve_1.to_table(sed_type=\"flux\", format=\"lightcurve\")\n",
    "\n"
   ]
  },
  {
   "cell_type": "markdown",
   "metadata": {},
   "source": [
    "LC plot"
   ]
  },
  {
   "cell_type": "code",
   "execution_count": null,
   "metadata": {},
   "outputs": [],
   "source": [
    "plt.figure()\n",
    "\n",
    "lines = itertools.cycle([\"--\", \"-.\", \":\"])\n",
    "\n",
    "# Plot the light curve\n",
    "ax = light_curve.plot(sed_type=\"flux\", label=\"LST-1 + MAGIC (this work), pointing weights\")\n",
    "if double:\n",
    "    ax = light_curve_1.plot(sed_type=\"flux\", label=\"LST-1 + MAGIC (this work), intensity + pointing weights\")\n",
    "\n",
    "\n",
    "xlim = plt.xlim()\n",
    "\n",
    "# Plot the reference flux\n",
    "for label, model in reference_models.items():\n",
    "    \n",
    "    integ_flux = model.integral(energy_edges[0], energy_edges[1])\n",
    "    ax.plot(xlim, np.repeat(integ_flux, 2), label=label, linestyle=next(lines))\n",
    "\n",
    "energy_range = f\"{energy_edges[0]:.3f} < $E$ < {energy_edges[1]:.1f}\"\n",
    "\n",
    "ax.set_title(f\"Light curve of {source_name} ({energy_range})\")\n",
    "ax.set_ylabel(\"Flux [cm$^{-2}$ s$^{-1}$]\")\n",
    "ax.set_yscale(\"linear\")\n",
    "ax.legend()\n",
    "ax.grid()\n"
   ]
  }
 ],
 "metadata": {
  "kernelspec": {
   "display_name": "Python 3 (ipykernel)",
   "language": "python",
   "name": "python3"
  },
  "language_info": {
   "codemirror_mode": {
    "name": "ipython",
    "version": 3
   },
   "file_extension": ".py",
   "mimetype": "text/x-python",
   "name": "python",
   "nbconvert_exporter": "python",
   "pygments_lexer": "ipython3",
   "version": "3.8.13"
  }
 },
 "nbformat": 4,
 "nbformat_minor": 2
}
