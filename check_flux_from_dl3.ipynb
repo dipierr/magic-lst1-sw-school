{
 "cells": [
  {
   "cell_type": "code",
   "execution_count": null,
   "metadata": {},
   "outputs": [],
   "source": [
    "import itertools\n",
    "\n",
    "import numpy as np\n",
    "from astropy import units as u\n",
    "from astropy.coordinates import SkyCoord\n",
    "from astropy.time import Time\n",
    "from matplotlib import pyplot as plt"
   ]
  },
  {
   "cell_type": "code",
   "execution_count": null,
   "metadata": {},
   "outputs": [],
   "source": [
    "# Due to the dependencies on other packages, gammapy v0.19 is installed\n",
    "# in the current magic-cta-pipe environment, but it is already outdated.\n",
    "# In order to use the latest features, such as dynamic theta cuts and\n",
    "# the wobble region finder, please run this notebook with a different\n",
    "# environment where the newer versions of gammapy (v0.20.*) is installed.\n",
    "\n",
    "import gammapy\n",
    "\n",
    "print(f\"gammapy: v{gammapy.__version__}\")\n",
    "\n",
    "from gammapy.data import DataStore\n",
    "from gammapy.datasets import Datasets, SpectrumDataset\n",
    "from gammapy.estimators import FluxPointsEstimator, LightCurveEstimator\n",
    "from gammapy.makers import (\n",
    "    ReflectedRegionsBackgroundMaker,\n",
    "    SafeMaskMaker,\n",
    "    SpectrumDatasetMaker,\n",
    "    WobbleRegionsFinder,\n",
    ")\n",
    "from gammapy.maps import Map, MapAxis, RegionGeom\n",
    "from gammapy.modeling import Fit\n",
    "from gammapy.modeling.models import (\n",
    "    ExpCutoffPowerLawSpectralModel,\n",
    "    LogParabolaSpectralModel,\n",
    "    PowerLawSpectralModel,\n",
    "    SkyModel,\n",
    "    create_crab_spectral_model,\n",
    ")\n",
    "from gammapy.visualization import plot_spectrum_datasets_off_regions\n",
    "from regions import CircleSkyRegion, PointSkyRegion"
   ]
  },
  {
   "cell_type": "markdown",
   "metadata": {},
   "source": [
    "> # pox doppio plot?(es con e senza pesi)"
   ]
  },
  {
   "cell_type": "code",
   "execution_count": null,
   "metadata": {},
   "outputs": [],
   "source": [
    "# Customize the pyplot figure\n",
    "plt.rcParams.update(\n",
    "    {\"figure.figsize\": (12, 9), \"font.size\": 15, \"grid.linestyle\": \"--\"}\n",
    ")\n",
    "\n",
    "# Get the default color cycle\n",
    "colors = plt.rcParams[\"axes.prop_cycle\"].by_key()[\"color\"]"
   ]
  },
  {
   "cell_type": "markdown",
   "metadata": {},
   "source": [
    "# Load DL3 data"
   ]
  },
  {
   "cell_type": "code",
   "execution_count": null,
   "metadata": {
    "scrolled": false
   },
   "outputs": [],
   "source": [
    "# ================\n",
    "# === Settings ===\n",
    "# ================\n",
    "\n",
    "input_dir = ('')\n",
    "    \n",
    "input_dir_1 = ('')\n",
    "\n",
    "# === Main ===\n",
    "# ============\n",
    "\n",
    "print(f\"Input directory: {input_dir}\")\n",
    "print(f\"Input directory: {input_dir_1}\")\n",
    "\n",
    "data_store = DataStore.from_dir(input_dir)\n",
    "data_store_1 = DataStore.from_dir(input_dir_1)\n",
    "# Show the observation table\n",
    "data_store.obs_table\n"
   ]
  },
  {
   "cell_type": "code",
   "execution_count": null,
   "metadata": {
    "scrolled": false
   },
   "outputs": [],
   "source": [
    "# ================\n",
    "# === Settings ===\n",
    "# ================\n",
    "\n",
    "\n",
    "\n",
    "obs_ids = None   # `None` means \"all\" observations\n",
    "\n",
    "# ============\n",
    "# === Main ===\n",
    "# ============\n",
    "\n",
    "observations = data_store.get_observations(obs_ids, required_irf=\"point-like\")\n",
    "observations_1 = data_store_1.get_observations(obs_ids, required_irf=\"point-like\")\n",
    "print(observations)\n",
    "\n",
    "\n"
   ]
  },
  {
   "cell_type": "markdown",
   "metadata": {},
   "source": [
    "# Define a target region"
   ]
  },
  {
   "cell_type": "code",
   "execution_count": null,
   "metadata": {},
   "outputs": [],
   "source": [
    "# Get metadata from the first observation\n",
    "observation = observations[0]\n",
    "\n",
    "event_meta = observation.events.table.meta\n",
    "aeff_meta = observation.aeff.meta\n",
    "\n",
    "# Define a target position\n",
    "target_position = SkyCoord(\n",
    "    u.Quantity(event_meta[\"RA_OBJ\"], u.deg),\n",
    "    u.Quantity(event_meta[\"DEC_OBJ\"], u.deg),\n",
    "    frame=\"icrs\",\n",
    ")\n",
    "\n",
    "if \"RAD_MAX\" in aeff_meta:\n",
    "    # Get the global theta cut used for creating the IRFs\n",
    "    on_region_radius = aeff_meta[\"RAD_MAX\"] * u.deg\n",
    "    \n",
    "    # Use the circle sky region to apply the global theta cut\n",
    "    on_region = CircleSkyRegion(center=target_position, radius=on_region_radius)\n",
    "    \n",
    "else:\n",
    "    # Use the point sky region to apply dynamic theta cuts\n",
    "    on_region = PointSkyRegion(target_position)\n",
    "    \n",
    "print(on_region)"
   ]
  },
  {
   "cell_type": "markdown",
   "metadata": {},
   "source": [
    "# Run the data reduction chain"
   ]
  },
  {
   "cell_type": "code",
   "execution_count": null,
   "metadata": {
    "scrolled": true
   },
   "outputs": [],
   "source": [
    "# ================\n",
    "# === Settings ===\n",
    "# ================\n",
    "\n",
    "energy_min = \"0.030 TeV\"\n",
    "energy_max = \"30. TeV\"\n",
    "n_bins_pdec = 5\n",
    "\n",
    "true_energy_min = \"0.01 TeV\"\n",
    "true_energy_max = \"100 TeV\"\n",
    "n_bins_pdec_true = 10\n",
    "\n",
    "n_off_regions = 3\n",
    "\n",
    "# ============\n",
    "# === Main ===\n",
    "# ============\n",
    "\n",
    "energy_axis = MapAxis.from_energy_bounds(\n",
    "    energy_min,\n",
    "    energy_max,\n",
    "    nbin=n_bins_pdec,\n",
    "    per_decade=True,\n",
    "    name=\"energy\",\n",
    ")\n",
    "\n",
    "energy_axis_true = MapAxis.from_energy_bounds(\n",
    "    true_energy_min,\n",
    "    true_energy_max,\n",
    "    nbin=n_bins_pdec_true,\n",
    "    per_decade=True,\n",
    "    name=\"energy_true\",\n",
    ")\n",
    "\n",
    "print(\"Energy axis:\")\n",
    "print(energy_axis.edges)\n",
    "\n",
    "on_geom = RegionGeom.create(region=on_region, axes=[energy_axis])\n",
    "\n",
    "dataset_empty = SpectrumDataset.create(geom=on_geom, energy_axis_true=energy_axis_true)\n",
    "\n",
    "# Create a spectrum dataset maker\n",
    "dataset_maker = SpectrumDatasetMaker(\n",
    "    containment_correction=False,\n",
    "    selection=[\"counts\", \"exposure\", \"edisp\"],\n",
    "    use_region_center=True,\n",
    ")\n",
    "\n",
    "# Create a background maker\n",
    "print(f\"\\nNumber of OFF regions: {n_off_regions}\")\n",
    "\n",
    "region_finder = WobbleRegionsFinder(n_off_regions=n_off_regions)\n",
    "bkg_maker = ReflectedRegionsBackgroundMaker(region_finder=region_finder)\n",
    "\n",
    "# Create a safe mask maker\n",
    "safe_mask_maker = SafeMaskMaker(methods=[\"aeff-max\"], aeff_percent=3)"
   ]
  },
  {
   "cell_type": "markdown",
   "metadata": {},
   "source": [
    "First sample"
   ]
  },
  {
   "cell_type": "code",
   "execution_count": null,
   "metadata": {},
   "outputs": [],
   "source": [
    "datasets = Datasets()\n",
    "\n",
    "counts = Map.create(skydir=target_position, width=3)\n",
    "\n",
    "# Loop over every observation\n",
    "print(\"Running the makers...\")\n",
    "\n",
    "n_observations = len(observations)\n",
    "\n",
    "for i_obs, observation in enumerate(observations):\n",
    "    \n",
    "    if (i_obs % 10) == 0:\n",
    "        print(f\"{i_obs}/{n_observations}\")\n",
    "    \n",
    "    obs_id = observation.obs_id\n",
    "    \n",
    "    # Fill the number of events in the map\n",
    "    counts.fill_events(observation.events)\n",
    "\n",
    "    # Run the makers to the observation data\n",
    "    dataset = dataset_maker.run(dataset_empty.copy(name=str(obs_id)), observation)\n",
    "    dataset_on_off = bkg_maker.run(dataset, observation)\n",
    "    dataset_on_off = safe_mask_maker.run(dataset_on_off, observation)\n",
    "\n",
    "    datasets.append(dataset_on_off)\n",
    "\n",
    "print(f\"{n_observations}/{n_observations}\")\n",
    "\n",
    "# Get the information table\n",
    "info_table = datasets.info_table(cumulative=True)\n",
    "print(datasets.energy_ranges)\n",
    "# Show the table\n",
    "info_table"
   ]
  },
  {
   "cell_type": "markdown",
   "metadata": {},
   "source": [
    "Seconda sample"
   ]
  },
  {
   "cell_type": "code",
   "execution_count": null,
   "metadata": {},
   "outputs": [],
   "source": [
    "datasets_1 = Datasets()\n",
    "\n",
    "counts_1 = Map.create(skydir=target_position, width=3)\n",
    "\n",
    "# Loop over every observation\n",
    "print(\"Running the makers...\")\n",
    "\n",
    "n_observations_1 = len(observations_1)\n",
    "\n",
    "for i_obs, observation in enumerate(observations_1):\n",
    "    \n",
    "    if (i_obs % 10) == 0:\n",
    "        print(f\"{i_obs}/{n_observations_1}\")\n",
    "    \n",
    "    obs_id = observation.obs_id\n",
    "    \n",
    "    # Fill the number of events in the map\n",
    "    counts_1.fill_events(observation.events)\n",
    "\n",
    "    # Run the makers to the observation data\n",
    "    dataset = dataset_maker.run(dataset_empty.copy(name=str(obs_id)), observation)\n",
    "    dataset_on_off = bkg_maker.run(dataset, observation)\n",
    "    dataset_on_off = safe_mask_maker.run(dataset_on_off, observation)\n",
    "\n",
    "    datasets_1.append(dataset_on_off)\n",
    "\n",
    "print(f\"{n_observations_1}/{n_observations_1}\")\n",
    "\n",
    "# Get the information table\n",
    "info_table_1 = datasets_1.info_table(cumulative=True)\n",
    "print(datasets_1.energy_ranges)\n",
    "# Show the table\n",
    "info_table_1"
   ]
  },
  {
   "cell_type": "markdown",
   "metadata": {},
   "source": [
    "Some plots (first sample)"
   ]
  },
  {
   "cell_type": "code",
   "execution_count": null,
   "metadata": {
    "scrolled": false
   },
   "outputs": [],
   "source": [
    "plt.figure()\n",
    "\n",
    "# Plot the count map\n",
    "ax = counts.plot(add_cbar=True)\n",
    "\n",
    "# Plot the ON position\n",
    "on_geom.plot_region(ax=ax, edgecolor=\"red\")\n",
    "\n",
    "# Plot the OFF positions (only the first part of observations)\n",
    "if n_observations < 10:\n",
    "    plot_spectrum_datasets_off_regions(datasets, ax)\n",
    "else:\n",
    "    plot_spectrum_datasets_off_regions(datasets[0:10], ax)\n",
    "\n",
    "ax.grid()"
   ]
  },
  {
   "cell_type": "code",
   "execution_count": null,
   "metadata": {},
   "outputs": [],
   "source": [
    "plt.figure(figsize=(20, 7))\n",
    "grid = (1, 2)\n",
    "\n",
    "# Plot the number of events along the livetime\n",
    "plt.subplot2grid(grid, (0, 0))\n",
    "plt.xlabel(\"Livetime [hour]\")\n",
    "plt.ylabel(\"Number of events\")\n",
    "\n",
    "plt.plot(\n",
    "    info_table[\"livetime\"].to(\"h\"),\n",
    "    info_table[\"excess\"],\n",
    "    marker=\"o\",\n",
    "    linestyle=\"--\",\n",
    "    label=\"Excess\",\n",
    ")\n",
    "\n",
    "plt.plot(\n",
    "    info_table[\"livetime\"].to(\"h\"),\n",
    "    info_table[\"background\"],\n",
    "    marker=\"o\",\n",
    "    linestyle=\"--\",\n",
    "    label=\"Background\",\n",
    ")\n",
    "\n",
    "plt.grid()\n",
    "plt.legend()\n",
    "\n",
    "# Plot the significance along the livetime\n",
    "plt.subplot2grid(grid, (0, 1))\n",
    "plt.xlabel(\"Livetime [hour]\")\n",
    "plt.ylabel(\"Sqrt(TS)\")\n",
    "\n",
    "plt.plot(\n",
    "    info_table[\"livetime\"].to(\"h\"), info_table[\"sqrt_ts\"], marker=\"o\", linestyle=\"--\"\n",
    ")\n",
    "\n",
    "plt.grid()"
   ]
  },
  {
   "cell_type": "markdown",
   "metadata": {},
   "source": [
    "# Fit the spectrum"
   ]
  },
  {
   "cell_type": "code",
   "execution_count": null,
   "metadata": {},
   "outputs": [],
   "source": [
    "source_name=\"Crab Nebula\"\n",
    "\n",
    "spectral_model = LogParabolaSpectralModel(\n",
    "    amplitude=u.Quantity(5e-12, unit=\"cm-2 s-1 TeV-1\"),\n",
    "    alpha=2,\n",
    "    beta=0.1,\n",
    "    reference=u.Quantity(1, unit=\"TeV\"),\n",
    ")\n",
    "\n",
    "# ============\n",
    "# === Main ===\n",
    "# ============\n",
    "\n",
    "sky_model = SkyModel(spectral_model=spectral_model.copy(), name=source_name)\n",
    "\n",
    "# Add the model to the stacked dataset\n",
    "stacked_dataset = datasets.stack_reduce()\n",
    "stacked_dataset.models = [sky_model]\n",
    "\n",
    "stacked_dataset_1 = datasets_1.stack_reduce()\n",
    "stacked_dataset_1.models = [sky_model]\n",
    "\n",
    "# Fit the spectral model\n",
    "fit = Fit()"
   ]
  },
  {
   "cell_type": "markdown",
   "metadata": {},
   "source": [
    "First sample"
   ]
  },
  {
   "cell_type": "code",
   "execution_count": null,
   "metadata": {
    "scrolled": true
   },
   "outputs": [],
   "source": [
    "results = fit.run(datasets=stacked_dataset)\n",
    "print(results)\n",
    "\n",
    "# Keep the best fit model\n",
    "best_fit_model = stacked_dataset.models[0].spectral_model.copy()\n",
    "\n",
    "# Show the fitted parameters\n",
    "stacked_dataset.models.to_parameters_table()"
   ]
  },
  {
   "cell_type": "markdown",
   "metadata": {},
   "source": [
    "Second sample"
   ]
  },
  {
   "cell_type": "code",
   "execution_count": null,
   "metadata": {
    "scrolled": false
   },
   "outputs": [],
   "source": [
    "results_1 = fit.run(datasets=stacked_dataset_1)\n",
    "print(results_1)\n",
    "\n",
    "# Keep the best fit model\n",
    "best_fit_model_1 = stacked_dataset_1.models[0].spectral_model.copy()\n",
    "\n",
    "# Show the fitted parameters\n",
    "stacked_dataset_1.models.to_parameters_table()\n"
   ]
  },
  {
   "cell_type": "markdown",
   "metadata": {},
   "source": [
    "Plots"
   ]
  },
  {
   "cell_type": "code",
   "execution_count": null,
   "metadata": {},
   "outputs": [],
   "source": [
    "plt.figure()\n",
    "\n",
    "# Plot the number of excess and predicted events\n",
    "ax_spectrum, ax_residuals = stacked_dataset.plot_fit()\n",
    "\n",
    "ax_spectrum.set_ylabel(\"Number of events\")\n",
    "ax_spectrum.grid()\n",
    "\n",
    "plt.setp(ax_spectrum.get_xticklabels(), visible=False)\n",
    "plt.subplots_adjust(hspace=0)\n",
    "\n",
    "ax_residuals.grid()"
   ]
  },
  {
   "cell_type": "code",
   "execution_count": null,
   "metadata": {},
   "outputs": [],
   "source": [
    "plt.figure()\n",
    "\n",
    "# Plot the number of excess and predicted events\n",
    "ax_spectrum, ax_residuals = stacked_dataset_1.plot_fit()\n",
    "\n",
    "ax_spectrum.set_ylabel(\"Number of events\")\n",
    "ax_spectrum.grid()\n",
    "\n",
    "plt.setp(ax_spectrum.get_xticklabels(), visible=False)\n",
    "plt.subplots_adjust(hspace=0)\n",
    "\n",
    "ax_residuals.grid()"
   ]
  },
  {
   "cell_type": "code",
   "execution_count": null,
   "metadata": {},
   "outputs": [],
   "source": []
  },
  {
   "cell_type": "code",
   "execution_count": null,
   "metadata": {},
   "outputs": [],
   "source": []
  },
  {
   "cell_type": "markdown",
   "metadata": {},
   "source": [
    "# Estimate the flux points"
   ]
  },
  {
   "cell_type": "code",
   "execution_count": null,
   "metadata": {},
   "outputs": [],
   "source": [
    "# Create a flux point estimator\n",
    "flux_points_estimator = FluxPointsEstimator(\n",
    "    energy_edges=energy_axis.edges, source=source_name, selection_optional=\"all\"\n",
    ")"
   ]
  },
  {
   "cell_type": "markdown",
   "metadata": {},
   "source": [
    "First sample"
   ]
  },
  {
   "cell_type": "code",
   "execution_count": null,
   "metadata": {
    "scrolled": true
   },
   "outputs": [],
   "source": [
    "# Run the flux point estimator to the datasets\n",
    "print(\"Running the flux points estimator...\")\n",
    "flux_points = flux_points_estimator.run(datasets=stacked_dataset)\n",
    "\n",
    "# Show the flux points table\n",
    "flux_points.to_table(sed_type=\"e2dnde\", formatted=True)"
   ]
  },
  {
   "cell_type": "markdown",
   "metadata": {},
   "source": [
    "Second sample"
   ]
  },
  {
   "cell_type": "code",
   "execution_count": null,
   "metadata": {},
   "outputs": [],
   "source": [
    "# Run the flux point estimator to the datasets\n",
    "print(\"Running the flux points estimator...\")\n",
    "flux_points_1 = flux_points_estimator.run(datasets=stacked_dataset_1)\n",
    "\n",
    "# Show the flux points table\n",
    "flux_points_1.to_table(sed_type=\"e2dnde\", formatted=True)"
   ]
  },
  {
   "cell_type": "markdown",
   "metadata": {},
   "source": [
    "SED plot"
   ]
  },
  {
   "cell_type": "code",
   "execution_count": null,
   "metadata": {
    "scrolled": false
   },
   "outputs": [],
   "source": [
    "# ================\n",
    "# === Settings ===\n",
    "# ================\n",
    "\n",
    "sed_type = \"e2dnde\"\n",
    "yunits = u.Unit(\"erg cm-2 s-1\")\n",
    "#yunits = \"TeV cm-2 s-1\"\n",
    "crab_model = create_crab_spectral_model(\"magic_lp\")\n",
    "print(crab_model)\n",
    "reference_models = {\n",
    "    \"Crab reference (MAGIC, JHEAp 2015)\": crab_model,\n",
    "    \n",
    "}\n",
    "#unit = u.Unit('TeV cm-2 s-1')\n",
    "# ============\n",
    "# === Main ===\n",
    "# ============\n",
    "from astropy import visualization\n",
    "\n",
    "with visualization.quantity_support():\n",
    "    plt.figure()\n",
    "\n",
    "    energy_bounds = energy_axis.edges[[0, -1]]\n",
    "\n",
    "    lines = itertools.cycle([\"--\", \"-.\", \":\"])\n",
    "\n",
    "    # Plot the flux points\n",
    "    ax = flux_points.plot(sed_type=sed_type, label=\"LST-1 + MAGIC (this work), -bias,pointing weights\")\n",
    "    ax = flux_points_1.plot(sed_type=sed_type, label=\"LST-1 + MAGIC (this work),  pointing weights\")\n",
    "    \n",
    "\n",
    "    # Plot the best fit model and its error, first sample\n",
    "    best_fit_model.plot(\n",
    "        ax=ax,\n",
    "        energy_bounds=energy_bounds,\n",
    "        sed_type=sed_type,\n",
    "        yunits=yunits,\n",
    "        color=colors[0],\n",
    "        label=\"Best fit model, s\"\n",
    "    )\n",
    "\n",
    "    best_fit_model.plot_error(\n",
    "        ax=ax,\n",
    "        energy_bounds=energy_bounds,\n",
    "        sed_type=sed_type,\n",
    "        yunits=yunits,\n",
    "        facecolor=colors[0],\n",
    "    )\n",
    "    \n",
    "    \n",
    "    # Plot the best fit model and its error, seconda sample\n",
    "    best_fit_model_1.plot(\n",
    "        ax=ax,\n",
    "        energy_bounds=energy_bounds,\n",
    "        sed_type=sed_type,\n",
    "        yunits=yunits,\n",
    "        color=colors[1],\n",
    "        label=\"Best fit model, -bias, \"\n",
    "    )\n",
    "\n",
    "    best_fit_model_1.plot_error(\n",
    "        ax=ax,\n",
    "        energy_bounds=energy_bounds,\n",
    "        sed_type=sed_type,\n",
    "        yunits=yunits,\n",
    "        facecolor=colors[1],\n",
    "    )\n",
    "    \n",
    "   \n",
    "    # Plot the reference spectra\n",
    "    for label, model in reference_models.items():\n",
    "\n",
    "        model.plot(\n",
    "            ax=ax,\n",
    "            energy_bounds=energy_bounds,\n",
    "            sed_type=sed_type,\n",
    "            yunits=yunits,\n",
    "            label=label,\n",
    "            linestyle=next(lines)\n",
    "        )\n",
    "\n",
    "    ax.set_title(f\"Spectral Energy Distribution of {source_name}\")\n",
    "    \n",
    "    ax.set_ylim(1e-12)\n",
    "    ax.grid(which=\"both\")\n",
    "    ax.legend(loc=\"lower left\")\n"
   ]
  },
  {
   "cell_type": "markdown",
   "metadata": {},
   "source": [
    "# Estimate the light curve"
   ]
  },
  {
   "cell_type": "markdown",
   "metadata": {},
   "source": [
    "Setting + First sample"
   ]
  },
  {
   "cell_type": "code",
   "execution_count": null,
   "metadata": {
    "scrolled": false
   },
   "outputs": [],
   "source": [
    "# ================\n",
    "# === Settings ===\n",
    "# ================\n",
    "\n",
    "frozen_params = [\"alpha\", \"beta\"]\n",
    "\n",
    "# ============\n",
    "# === Main ===\n",
    "# ============\n",
    "\n",
    "sky_model = SkyModel(\n",
    "    spectral_model=best_fit_model.copy(), name=source_name\n",
    ")\n",
    "\n",
    "# Freeze the spectral parameters\n",
    "for param in frozen_params:\n",
    "    sky_model.parameters[param].frozen = True\n",
    "    \n",
    "# Add the model to the datasets\n",
    "datasets.models = [sky_model]\n",
    "\n",
    "print(sky_model)\n"
   ]
  },
  {
   "cell_type": "markdown",
   "metadata": {},
   "source": [
    "Second sample"
   ]
  },
  {
   "cell_type": "code",
   "execution_count": null,
   "metadata": {},
   "outputs": [],
   "source": [
    "sky_model_1 = SkyModel(\n",
    "    spectral_model=best_fit_model_1.copy(), name=source_name\n",
    ")\n",
    "\n",
    "# Freeze the spectral parameters\n",
    "for param in frozen_params:\n",
    "    sky_model_1.parameters[param].frozen = True\n",
    "    \n",
    "# Add the model to the datasets\n",
    "datasets_1.models = [sky_model_1]\n",
    "\n",
    "print(sky_model_1)\n"
   ]
  },
  {
   "cell_type": "markdown",
   "metadata": {},
   "source": [
    "### Light curve "
   ]
  },
  {
   "cell_type": "code",
   "execution_count": null,
   "metadata": {},
   "outputs": [],
   "source": [
    "# ================\n",
    "# === Settings ===\n",
    "# ================\n",
    "\n",
    "energy_edges = energy_axis.edges[[1,-1]]\n",
    "print(energy_edges)\n",
    "\n",
    "#time_intervals = [\n",
    "#    Time([59171.98, 59172.01], format=\"mjd\", scale=\"utc\"),\n",
    "#    Time([59190.98, 59190.99], format=\"mjd\", scale=\"utc\"),\n",
    "#    Time([59198.89, 59198.94], format=\"mjd\", scale=\"utc\"),\n",
    "#    Time([59258.91, 59258.99], format=\"mjd\", scale=\"utc\"),\n",
    "#    Time([59288.91, 59288.94], format=\"mjd\", scale=\"utc\"),\n",
    "#    Time([59290.94, 59290.96], format=\"mjd\", scale=\"utc\"),\n",
    "#] \n",
    "time_intervals=None# `None` means \"run-wise\"\n",
    "\n",
    "# ============\n",
    "# === Main ===\n",
    "# ============\n",
    "\n",
    "# Create a light curve estimator\n",
    "light_curve_estimator = LightCurveEstimator(\n",
    "    energy_edges=energy_edges,\n",
    "    time_intervals=time_intervals,\n",
    "    source=source_name,\n",
    "    selection_optional=\"all\",\n",
    ")"
   ]
  },
  {
   "cell_type": "markdown",
   "metadata": {},
   "source": [
    "First sample"
   ]
  },
  {
   "cell_type": "code",
   "execution_count": null,
   "metadata": {
    "scrolled": true
   },
   "outputs": [],
   "source": [
    "# Run the light curve estimator to the datasets\n",
    "print(\"Running the light curve estimator...\")\n",
    "light_curve = light_curve_estimator.run(datasets=datasets)\n",
    "\n",
    "# Show the light curve table\n",
    "light_curve.to_table(sed_type=\"flux\", format=\"lightcurve\")\n"
   ]
  },
  {
   "cell_type": "markdown",
   "metadata": {},
   "source": [
    "Seconda sample"
   ]
  },
  {
   "cell_type": "code",
   "execution_count": null,
   "metadata": {},
   "outputs": [],
   "source": [
    "# Run the light curve estimator to the datasets\n",
    "print(\"Running the light curve estimator...\")\n",
    "light_curve_1 = light_curve_estimator.run(datasets=datasets_1)\n",
    "\n",
    "# Show the light curve table\n",
    "light_curve_1.to_table(sed_type=\"flux\", format=\"lightcurve\")\n",
    "\n"
   ]
  },
  {
   "cell_type": "markdown",
   "metadata": {},
   "source": [
    "LC plot"
   ]
  },
  {
   "cell_type": "code",
   "execution_count": null,
   "metadata": {},
   "outputs": [],
   "source": [
    "plt.figure()\n",
    "\n",
    "lines = itertools.cycle([\"--\", \"-.\", \":\"])\n",
    "\n",
    "# Plot the light curve\n",
    "ax = light_curve.plot(sed_type=\"flux\", label=\"LST-1 + MAGIC (this work), pointing weights\")\n",
    "ax = light_curve_1.plot(sed_type=\"flux\", label=\"LST-1 + MAGIC (this work), intensity + pointing weights\")\n",
    "\n",
    "\n",
    "xlim = plt.xlim()\n",
    "\n",
    "# Plot the reference flux\n",
    "for label, model in reference_models.items():\n",
    "    \n",
    "    integ_flux = model.integral(energy_edges[0], energy_edges[1])\n",
    "    ax.plot(xlim, np.repeat(integ_flux, 2), label=label, linestyle=next(lines))\n",
    "\n",
    "energy_range = f\"{energy_edges[0]:.3f} < $E$ < {energy_edges[1]:.1f}\"\n",
    "\n",
    "ax.set_title(f\"Light curve of {source_name} ({energy_range})\")\n",
    "ax.set_ylabel(\"Flux [cm$^{-2}$ s$^{-1}$]\")\n",
    "ax.set_yscale(\"linear\")\n",
    "ax.legend()\n",
    "ax.grid()\n"
   ]
  }
 ],
 "metadata": {
  "kernelspec": {
   "display_name": "Python 3 (ipykernel)",
   "language": "python",
   "name": "python3"
  },
  "language_info": {
   "codemirror_mode": {
    "name": "ipython",
    "version": 3
   },
   "file_extension": ".py",
   "mimetype": "text/x-python",
   "name": "python",
   "nbconvert_exporter": "python",
   "pygments_lexer": "ipython3",
   "version": "3.8.13"
  }
 },
 "nbformat": 4,
 "nbformat_minor": 2
}
